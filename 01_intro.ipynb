{
 "cells": [
  {
   "cell_type": "markdown",
   "id": "e1ae2dbd-cf10-4b3f-a67b-e21de3b8f047",
   "metadata": {},
   "source": [
    "# 00. 설치/실행/종료"
   ]
  },
  {
   "cell_type": "markdown",
   "id": "ca2a9a51-cef4-44d6-9bce-d9054c809ef9",
   "metadata": {},
   "source": [
    "# 01. intro"
   ]
  },
  {
   "cell_type": "markdown",
   "id": "a1e3bcf9-c8c4-4438-bd9c-27612eafe79d",
   "metadata": {},
   "source": [
    "## 단축키\n",
    "- ctrl + enter : 지금 셀 실행 \n",
    "- shift + enter : 지금 셀 실행 + 아래로 이동 \n",
    "- alt + enter : 지금 셀 실행+ 아래에 새로운 셀 추가 "
   ]
  },
  {
   "cell_type": "markdown",
   "id": "7cc7c0d5-5f9f-4e5e-84fb-0fe4c7854652",
   "metadata": {},
   "source": [
    "## 1. 변수\n",
    "\n",
    "\n",
    "변수이름 `=` 값\n",
    "\n",
    "- 변수 이름은 어떤 이름이든 상관 없음. \n",
    "- 그러나 가능하면 '영어, 숫자, `_`를 이용하여 선언 \n",
    "- 키워드는 사용불가"
   ]
  },
  {
   "cell_type": "code",
   "execution_count": null,
   "id": "47cc0d79-69e3-4d86-b8ec-2fff95fefd13",
   "metadata": {},
   "outputs": [],
   "source": [
    "a = 10"
   ]
  },
  {
   "cell_type": "code",
   "execution_count": null,
   "id": "58d61444-a0c5-4829-b24c-e8aa2d40f05a",
   "metadata": {},
   "outputs": [],
   "source": [
    "a"
   ]
  },
  {
   "cell_type": "code",
   "execution_count": null,
   "id": "74ed84b9-5df2-49b3-baf5-358da9fbb4b6",
   "metadata": {},
   "outputs": [],
   "source": [
    "a = 11"
   ]
  },
  {
   "cell_type": "markdown",
   "id": "19643d79-872f-419c-b8f5-f876771cbe8c",
   "metadata": {},
   "source": [
    "코드 실행은 내가 코드를 실행한 순서\n",
    "'Kernel' - Restart Kernel and clear Outputs : 앞에 내가 진행한 코드 모두 비활성화"
   ]
  },
  {
   "cell_type": "code",
   "execution_count": null,
   "id": "5bb0ab4b-3aaf-4afb-9022-e3e3a540fa78",
   "metadata": {},
   "outputs": [],
   "source": [
    "import keyword\n",
    "keyword.kwlist"
   ]
  },
  {
   "cell_type": "markdown",
   "id": "71793c37-28b0-4170-9d34-af02c313bb95",
   "metadata": {},
   "source": []
  },
  {
   "cell_type": "markdown",
   "id": "6c54f294-d8ca-421c-bd33-5c3fbc0d774d",
   "metadata": {},
   "source": [
    "### 1.1 number"
   ]
  },
  {
   "cell_type": "code",
   "execution_count": null,
   "id": "ba2aa8c3-c0f9-44cc-ba0a-4d38fd60f353",
   "metadata": {},
   "outputs": [],
   "source": [
    "a = 100000"
   ]
  },
  {
   "cell_type": "code",
   "execution_count": null,
   "id": "e1236bff-c6fb-490a-9e92-bf7d8e817713",
   "metadata": {},
   "outputs": [],
   "source": [
    "a"
   ]
  },
  {
   "cell_type": "code",
   "execution_count": null,
   "id": "8cf39b87-2d60-46f9-badd-5aa09a7d4bfb",
   "metadata": {},
   "outputs": [],
   "source": [
    "type(a)"
   ]
  },
  {
   "cell_type": "markdown",
   "id": "248c68b6-1bf8-43dd-bc23-15635ce2ec12",
   "metadata": {},
   "source": [
    "int : '정수'라는 의미"
   ]
  },
  {
   "cell_type": "code",
   "execution_count": null,
   "id": "d91e5f8d-2b97-4b0d-878b-a46458540631",
   "metadata": {},
   "outputs": [],
   "source": [
    "b = 1.1"
   ]
  },
  {
   "cell_type": "code",
   "execution_count": null,
   "id": "80f6f5be-ada6-4945-95bd-30232df09a7b",
   "metadata": {},
   "outputs": [],
   "source": [
    "b"
   ]
  },
  {
   "cell_type": "code",
   "execution_count": null,
   "id": "b1c3b6b7-0ebb-47f4-b50f-df0d5f4fe57c",
   "metadata": {},
   "outputs": [],
   "source": [
    "type(b)"
   ]
  },
  {
   "cell_type": "markdown",
   "id": "28be437f-34df-468e-ad1d-1b7f2d457834",
   "metadata": {},
   "source": [
    "float : '소수'라는 의미 "
   ]
  },
  {
   "cell_type": "code",
   "execution_count": null,
   "id": "9d9a5b46-00fc-4f7f-9408-a0424beafc99",
   "metadata": {},
   "outputs": [],
   "source": [
    "c = 1 - 4j"
   ]
  },
  {
   "cell_type": "code",
   "execution_count": null,
   "id": "d22f73c9-7b8b-4739-a3a9-0f003c43cac0",
   "metadata": {},
   "outputs": [],
   "source": [
    "c"
   ]
  },
  {
   "cell_type": "code",
   "execution_count": null,
   "id": "f1e6278a-3242-41fc-ae0c-ed6927f4a1f3",
   "metadata": {},
   "outputs": [],
   "source": [
    "type(c)"
   ]
  },
  {
   "cell_type": "markdown",
   "id": "664ea541-201c-465f-93c4-cb4f37e45d73",
   "metadata": {},
   "source": [
    "complex : '실수+허수(복합타입)'이라는 의미 "
   ]
  },
  {
   "cell_type": "code",
   "execution_count": null,
   "id": "be452ebb-6481-43c1-8c35-3d1e59f140d2",
   "metadata": {},
   "outputs": [],
   "source": [
    "c.imag"
   ]
  },
  {
   "cell_type": "code",
   "execution_count": null,
   "id": "02eb33de-f173-4ec6-a56d-d8aa6206cc3d",
   "metadata": {},
   "outputs": [],
   "source": [
    "c.real"
   ]
  },
  {
   "cell_type": "markdown",
   "id": "2794e009-1fe9-49b1-bfb2-151a4b6ddbdf",
   "metadata": {},
   "source": [
    "\n",
    "### 1.2 Boolean\n"
   ]
  },
  {
   "cell_type": "markdown",
   "id": "e26234ef-299a-44f9-b060-e62cb5cc8ce1",
   "metadata": {},
   "source": [
    "`True`, `False`로 이루어진 타입"
   ]
  },
  {
   "cell_type": "code",
   "execution_count": null,
   "id": "be31a6a8-db6b-417a-a513-b0421c4b5fc6",
   "metadata": {},
   "outputs": [],
   "source": [
    "a = True"
   ]
  },
  {
   "cell_type": "code",
   "execution_count": null,
   "id": "149f175e-1554-4fec-9e20-473047251ae7",
   "metadata": {},
   "outputs": [],
   "source": [
    "type(a)"
   ]
  },
  {
   "cell_type": "markdown",
   "id": "28c77f3b-1f32-4efc-8bb9-48b9c08cde92",
   "metadata": {},
   "source": [
    "true = 1 / false = 0"
   ]
  },
  {
   "cell_type": "markdown",
   "id": "638db29b-465c-4ee1-b002-b5e1ed3bf878",
   "metadata": {},
   "source": [
    "### 1.3 None"
   ]
  },
  {
   "cell_type": "code",
   "execution_count": null,
   "id": "41ea5263-f685-4d8c-b45f-5fab4d083be0",
   "metadata": {},
   "outputs": [],
   "source": [
    "a = None"
   ]
  },
  {
   "cell_type": "code",
   "execution_count": null,
   "id": "3d0e9eed-a0bb-4429-9c59-c0e26aa146e2",
   "metadata": {},
   "outputs": [],
   "source": [
    "type(a)"
   ]
  },
  {
   "cell_type": "markdown",
   "id": "b4f856c3-6120-4dd1-96bb-15872d22d28c",
   "metadata": {},
   "source": [
    "### 1.4 String\n",
    "- 문자열은 ', \"를 이용하여 표현 \n",
    "- 이때 같은 따옴표로 시작하고 끝나야 함.\n",
    "- 하나를 선택하여 통일성 있게 사용하는 것이 바람직. (마치 띄어쓰기, 맞춤법과 같으므로)"
   ]
  },
  {
   "cell_type": "code",
   "execution_count": null,
   "id": "538acb55-a5e5-4b02-8a87-5e1b40d33450",
   "metadata": {},
   "outputs": [],
   "source": [
    "a = 'hello'"
   ]
  },
  {
   "cell_type": "code",
   "execution_count": null,
   "id": "402e036e-83cd-432d-8266-962ecac64525",
   "metadata": {},
   "outputs": [],
   "source": [
    "type(a)"
   ]
  },
  {
   "cell_type": "code",
   "execution_count": null,
   "id": "5e6fefe6-fdb3-49f6-bb7c-176012dbc200",
   "metadata": {},
   "outputs": [],
   "source": [
    "b = \"world\""
   ]
  },
  {
   "cell_type": "code",
   "execution_count": null,
   "id": "2e8fd374-14ef-4c2f-ba94-c33cae20f040",
   "metadata": {},
   "outputs": [],
   "source": [
    "age = input()"
   ]
  },
  {
   "cell_type": "code",
   "execution_count": null,
   "id": "4f405349-622b-4930-9db4-939f7a834503",
   "metadata": {
    "scrolled": true
   },
   "outputs": [],
   "source": [
    "print('pizza')"
   ]
  },
  {
   "cell_type": "code",
   "execution_count": null,
   "id": "7a97371f-7f28-4b68-aa3d-f192467d0332",
   "metadata": {},
   "outputs": [],
   "source": [
    "print(\"안녕하세요? '최하은'입니다.\")"
   ]
  },
  {
   "cell_type": "code",
   "execution_count": null,
   "id": "3a645525-8d13-47b1-a754-013353a77172",
   "metadata": {},
   "outputs": [],
   "source": [
    "print('안녕하세요? \\'최하은\\'입니다.')"
   ]
  },
  {
   "cell_type": "code",
   "execution_count": null,
   "id": "a63c5bf2-e146-4e08-b7fb-1be25afa397d",
   "metadata": {},
   "outputs": [],
   "source": [
    "a = '''\n",
    "여기는 \\n문자열입니다.\n",
    "여러\\t줄을 작성할 수 있어요.\n",
    "'''"
   ]
  },
  {
   "cell_type": "code",
   "execution_count": null,
   "id": "5f548db2-04bd-4e22-b0c5-454efd7e94ce",
   "metadata": {},
   "outputs": [],
   "source": [
    "print(a)"
   ]
  },
  {
   "cell_type": "code",
   "execution_count": null,
   "id": "8a9a4f8d-9db3-44e9-bb47-50a10965c0c6",
   "metadata": {},
   "outputs": [],
   "source": [
    "print('하나', '둘', '셋')"
   ]
  },
  {
   "cell_type": "code",
   "execution_count": null,
   "id": "b7826069-931b-4b9d-b25c-596916853f05",
   "metadata": {},
   "outputs": [],
   "source": [
    "age = input()"
   ]
  },
  {
   "cell_type": "markdown",
   "id": "424c4808-2074-4828-b8d8-597c18f7cee0",
   "metadata": {},
   "source": [
    "### 1.5 string interpolation\n",
    "\n",
    "1. %-formatting\n",
    "2. str.format()\n",
    "3. f-string\n",
    "- 3번을 가장 많이 사용. 1/2번은 옛날 문법이므로 읽을 수만 있으면 됨"
   ]
  },
  {
   "cell_type": "code",
   "execution_count": null,
   "id": "16997021-5605-4c68-a5ee-5ea53876912f",
   "metadata": {},
   "outputs": [],
   "source": [
    "age = 100"
   ]
  },
  {
   "cell_type": "code",
   "execution_count": null,
   "id": "59f3b66b-53e7-46cd-9c6e-46bd7eb189d8",
   "metadata": {},
   "outputs": [],
   "source": [
    "print('홍길동은 11살입니다.')"
   ]
  },
  {
   "cell_type": "markdown",
   "id": "be50bf2b-d222-4cfa-aab1-8c677c3cf4a0",
   "metadata": {},
   "source": [
    "#### 1. %-formatting"
   ]
  },
  {
   "cell_type": "code",
   "execution_count": null,
   "id": "23501990-02c3-4220-b131-9dc0f516d47e",
   "metadata": {},
   "outputs": [],
   "source": [
    "print('홍길동은 %s살입니다.' % age)"
   ]
  },
  {
   "cell_type": "markdown",
   "id": "57d23383-26b7-4612-ac66-4be470e0cb89",
   "metadata": {},
   "source": [
    "#### 2. str.format()"
   ]
  },
  {
   "cell_type": "code",
   "execution_count": null,
   "id": "5ead8816-5363-49fd-b9a2-8488f514ec08",
   "metadata": {},
   "outputs": [],
   "source": [
    "print('홍길동은 {}살입니다.'.format(age))"
   ]
  },
  {
   "cell_type": "markdown",
   "id": "ebb9fb4e-1e93-470e-b5a8-e08efc390e83",
   "metadata": {},
   "source": [
    "#### 3. f-string"
   ]
  },
  {
   "cell_type": "code",
   "execution_count": null,
   "id": "db3354db-4413-425e-a0f6-cfd756c55cda",
   "metadata": {},
   "outputs": [],
   "source": [
    "print(f'홍길동은 {age}살입니다.')"
   ]
  },
  {
   "cell_type": "markdown",
   "id": "b6c63d0f-134d-44da-ac90-0e89bfdac47e",
   "metadata": {},
   "source": [
    "## 2. 연산자"
   ]
  },
  {
   "cell_type": "markdown",
   "id": "9dbf06f4-e3e3-46fe-96b8-2977ee382b89",
   "metadata": {},
   "source": [
    "### 2.1 산술연산자"
   ]
  },
  {
   "cell_type": "code",
   "execution_count": null,
   "id": "d79511e5-d14f-4b52-839e-d95ce05398c2",
   "metadata": {},
   "outputs": [],
   "source": [
    "a = 2\n",
    "b = 3\n"
   ]
  },
  {
   "cell_type": "code",
   "execution_count": null,
   "id": "234bf7df-f907-47d2-a33c-e96b46ea8c01",
   "metadata": {},
   "outputs": [],
   "source": [
    "print(a + b)\n",
    "print(a - b)\n",
    "print(a * b)\n",
    "print(a / b)\n",
    "print(a ** b)\n",
    "print(a // b)\n",
    "print(a % b)\n",
    "print(divmod(a,b))"
   ]
  },
  {
   "cell_type": "markdown",
   "id": "47ab5a5f-2682-4dde-b645-6b04aa17fe76",
   "metadata": {},
   "source": [
    "덧셈\n",
    "뺄셈\n",
    "곱셈\n",
    "나눗셈\n",
    "지수\n",
    "나눈 몫\n",
    "나눈 나머지\n",
    "(몫, 나머지) - mod"
   ]
  },
  {
   "cell_type": "code",
   "execution_count": null,
   "id": "ceb95a61-fd44-4a24-86ea-fabe5fbde3c3",
   "metadata": {},
   "outputs": [],
   "source": [
    "a + b\n",
    "a - b"
   ]
  },
  {
   "cell_type": "markdown",
   "id": "fafac55d-8d73-4d2b-b643-5ff7b582f0d4",
   "metadata": {},
   "source": [
    "- jupyter의 경우 맨 마지막줄만 출력하므로, 여러줄일 경우 print문을 사용할 것. (print문의 사용여부에 따라 결과값이 숫자는 같더라도 다름)"
   ]
  },
  {
   "cell_type": "markdown",
   "id": "491e6bb1-310d-4fd5-92e2-b91a69b2e776",
   "metadata": {},
   "source": [
    "### 2.2 비교연산자"
   ]
  },
  {
   "cell_type": "code",
   "execution_count": null,
   "id": "e12f772c-b7c5-4520-b83e-e52fb4db5284",
   "metadata": {},
   "outputs": [],
   "source": [
    "a = 5\n",
    "b = 10"
   ]
  },
  {
   "cell_type": "code",
   "execution_count": null,
   "id": "d5fab31f-9f62-4d3e-88b9-be2b8c288028",
   "metadata": {},
   "outputs": [],
   "source": [
    "print(a > b)\n",
    "print(a < b)\n",
    "print(a >= b)\n",
    "print(a <= b)\n",
    "print(a == b)\n",
    "print(a != b)"
   ]
  },
  {
   "cell_type": "markdown",
   "id": "ed61df48-b3c8-4145-8ac8-461a86c4f047",
   "metadata": {},
   "source": [
    "- `==` 양편이 같은지 비교\n",
    "- `!=' 양편이 다른지 비교\n"
   ]
  },
  {
   "cell_type": "code",
   "execution_count": null,
   "id": "5de85924-75bb-45c9-9d60-7b4c2bd9ef5b",
   "metadata": {},
   "outputs": [],
   "source": [
    "print('hi' == 'hi')\n",
    "print('Hi' == 'hi') "
   ]
  },
  {
   "cell_type": "markdown",
   "id": "a628f38f-b292-4544-a537-18b5011ff870",
   "metadata": {},
   "source": [
    "### 2.3 논리연산자"
   ]
  },
  {
   "cell_type": "markdown",
   "id": "0058f615-dee9-4948-86f5-cfe74827eafb",
   "metadata": {},
   "source": [
    "- and : 양쪽 모두 참일 때만 참 = 양편 중 하나라도 거짓이면 거짓\n",
    "- or : 양쪽 모두 거짓일 때만 거짓 = 양편 중 하나라도 참이면 참\n",
    "- not : 값을 반대로 전환"
   ]
  },
  {
   "cell_type": "code",
   "execution_count": null,
   "id": "03cb959d-7487-4b74-8d81-d6db87b4cb20",
   "metadata": {},
   "outputs": [],
   "source": [
    "print(True and True)\n",
    "print(True and False)\n",
    "print(False and True)\n",
    "print(False and False)"
   ]
  },
  {
   "cell_type": "code",
   "execution_count": null,
   "id": "585c8e12-e5e5-45e7-9484-0f640b5a6bb6",
   "metadata": {},
   "outputs": [],
   "source": [
    "print(True or True)\n",
    "print(True or False)\n",
    "print(False or True)\n",
    "print(False or False)"
   ]
  },
  {
   "cell_type": "code",
   "execution_count": null,
   "id": "faff8a38-afa9-420b-aac1-2aa9dcb0df8a",
   "metadata": {},
   "outputs": [],
   "source": [
    "print(True)\n",
    "print(not True)\n",
    "print(False)\n",
    "print(not False)\n",
    "\n",
    "a = True\n",
    "print(not a)"
   ]
  },
  {
   "cell_type": "markdown",
   "id": "2e9464fa-65c7-48aa-8b51-5bbb34347ae6",
   "metadata": {},
   "source": [
    "- 단축평가(and)"
   ]
  },
  {
   "cell_type": "markdown",
   "id": "e5f80634-d78a-461d-8892-f9b3ce2687d3",
   "metadata": {},
   "source": [
    "0 = F\n",
    "1,2,3,4,... = T"
   ]
  },
  {
   "cell_type": "code",
   "execution_count": null,
   "id": "0127da51-4391-477f-9d66-014ec68e6934",
   "metadata": {},
   "outputs": [],
   "source": [
    "print(3 and 5)\n",
    "print(3 and 0)\n",
    "print(0 and 5)\n",
    "print(0 and 0)"
   ]
  },
  {
   "cell_type": "markdown",
   "id": "258d8aa5-ec29-4efd-a563-f7873746059f",
   "metadata": {},
   "source": [
    "뒤의 값\n",
    "뒤의 값\n",
    "앞의 값\n",
    "앞의 값\n",
    "출력됨"
   ]
  },
  {
   "cell_type": "markdown",
   "id": "752f1ae0-07a9-4dfb-8ceb-8f63f7a6d405",
   "metadata": {},
   "source": [
    "- 단축평가(or)"
   ]
  },
  {
   "cell_type": "code",
   "execution_count": null,
   "id": "45f78faa-411f-4579-9af7-e1211f1a17e1",
   "metadata": {},
   "outputs": [],
   "source": [
    "print(3 or 5)\n",
    "print(3 or 0)\n",
    "print(0 or 5)\n",
    "print(0 or 0)"
   ]
  },
  {
   "cell_type": "markdown",
   "id": "8c943a6b-fa41-4126-98a6-e9dfe239645a",
   "metadata": {},
   "source": [
    "앞의 값\n",
    "앞의 값\n",
    "뒤의 값\n",
    "뒤의 값\n",
    "출력됨"
   ]
  },
  {
   "cell_type": "code",
   "execution_count": null,
   "id": "20439831-d467-4784-b1c4-5b72204cd5a7",
   "metadata": {},
   "outputs": [],
   "source": [
    "print(None or 'index.html')"
   ]
  },
  {
   "cell_type": "markdown",
   "id": "663e91d4-0f2f-4ae0-8cf0-cf5f8bdeeefb",
   "metadata": {},
   "source": [
    "뒤의 값 출력됨"
   ]
  },
  {
   "cell_type": "code",
   "execution_count": null,
   "id": "bf005840-ccf4-4337-828f-8074539bb7f5",
   "metadata": {},
   "outputs": [],
   "source": [
    "print('login.html' or 'index.html')"
   ]
  },
  {
   "cell_type": "markdown",
   "id": "4a86862e-36f4-4895-8bf7-c3b023eec253",
   "metadata": {},
   "source": [
    "앞의 값 출력됨"
   ]
  },
  {
   "cell_type": "markdown",
   "id": "637323fc-e29e-4642-8976-6b1b70cf9916",
   "metadata": {},
   "source": [
    "### 2.4 복합연산자"
   ]
  },
  {
   "cell_type": "code",
   "execution_count": null,
   "id": "c4c187b7-ff2c-4ce6-bc1f-e15dfd244698",
   "metadata": {},
   "outputs": [],
   "source": [
    "a = 2\n",
    "b = 3"
   ]
  },
  {
   "cell_type": "code",
   "execution_count": null,
   "id": "ff4cb821-11b2-4f62-b75f-a80b6f8b2e86",
   "metadata": {},
   "outputs": [],
   "source": [
    "a = a + b\n",
    "a = a - b\n",
    "a = a * b\n",
    "a = a / b\n",
    "a = a // b\n",
    "a = a % b\n",
    "a = a ** b"
   ]
  },
  {
   "cell_type": "markdown",
   "id": "996d1de0-45e9-42eb-995d-da7088da1205",
   "metadata": {},
   "source": [
    "오른쪽 값을 a에 할당하는 상황 / 아래에서는 축약한 형태로 적는 것"
   ]
  },
  {
   "cell_type": "code",
   "execution_count": null,
   "id": "ed369464-4096-43d4-a248-4f426e77e9c1",
   "metadata": {},
   "outputs": [],
   "source": [
    "print(a)"
   ]
  },
  {
   "cell_type": "code",
   "execution_count": null,
   "id": "01141414-d196-4490-96c4-41619a0cc3e7",
   "metadata": {},
   "outputs": [],
   "source": [
    "a += b\n",
    "a -= b\n",
    "a *= b\n",
    "print(a)"
   ]
  },
  {
   "cell_type": "markdown",
   "id": "ad23899e-1fe7-4175-8f62-003722ea57cc",
   "metadata": {},
   "source": [
    "### 2.4 기타연산자"
   ]
  },
  {
   "cell_type": "markdown",
   "id": "41334798-cc05-4a3b-9114-31bbe2bb5772",
   "metadata": {},
   "source": [
    "- 글자데이터를 갖고 연산 \n",
    "- 연산자가 연결하는 데이터들은 같은 종류여야 함 (글자끼리, 숫자끼리 등)"
   ]
  },
  {
   "cell_type": "code",
   "execution_count": null,
   "id": "452e25d9-8596-42d0-850f-35ea7da9b8fb",
   "metadata": {},
   "outputs": [],
   "source": []
  },
  {
   "cell_type": "code",
   "execution_count": null,
   "id": "3098ca86-e930-43e5-8aaf-fa5b43fc5004",
   "metadata": {},
   "outputs": [],
   "source": [
    "#concatenation : 글자를 연결\n",
    "\n",
    "a = 'hi'\n",
    "b = 'hello'\n",
    "\n",
    "a + b"
   ]
  },
  {
   "cell_type": "code",
   "execution_count": null,
   "id": "fc04d6fb-fb94-4e82-8bec-281c78ab5d6d",
   "metadata": {},
   "outputs": [],
   "source": [
    "a + 1"
   ]
  },
  {
   "cell_type": "code",
   "execution_count": null,
   "id": "3cc648d3-504e-4052-99a3-dc4428026001",
   "metadata": {},
   "outputs": [],
   "source": [
    "# contatinment : 포함되어있는지 확인\n",
    "print('a' in 'apple')\n",
    "print('z' in 'apple')\n",
    "print(1 in [1, 2, 3])\n",
    "print(100 in [1, 2, 3])"
   ]
  },
  {
   "cell_type": "code",
   "execution_count": null,
   "id": "be267a65-0d2f-43f6-872e-ee2644d3c8cb",
   "metadata": {},
   "outputs": [],
   "source": [
    "# is : 양쪽 데이터의 위치가 같은지 확인\n",
    "\n",
    "a = 123123\n",
    "b = 123123\n",
    "print(a is b)\n",
    "# 데이터의 메모리 주소가 서로 다름\n",
    "\n",
    "\n",
    "a = 256\n",
    "b = 256\n",
    "print(a is b)\n",
    "# 계산을 빠르게 하기 위해 미리 할당해둔 위치에 있는 숫자이므로 메모리 주소가 같음"
   ]
  },
  {
   "cell_type": "markdown",
   "id": "e12f2572-1bb1-42cd-b576-980f7432e564",
   "metadata": {},
   "source": [
    "#### 연산자 우선순위\n",
    "0. ( )를 통해 그룹핑\n",
    "1. **\n",
    "2. 산술연산자(*,/)\n",
    "3. 산술연산자(+,-)\n",
    "4. 비교연산자, is, in\n",
    "5. not\n",
    "6. and, or"
   ]
  },
  {
   "cell_type": "code",
   "execution_count": null,
   "id": "fe0bac88-9c4b-47d4-99de-3286c97045e2",
   "metadata": {},
   "outputs": [],
   "source": [
    "print(-3 ** 4)\n",
    "print((-3) ** 4)"
   ]
  },
  {
   "cell_type": "markdown",
   "id": "6b465723-d8b2-4584-a3a2-f1d3daceaeb1",
   "metadata": {},
   "source": [
    "## 형변환\n",
    "### 3.1 암시적 형변환 (자동으로 알아서 바뀌는 것)"
   ]
  },
  {
   "cell_type": "code",
   "execution_count": null,
   "id": "6609a85c-c580-42ab-ae03-8e936c98bb1c",
   "metadata": {},
   "outputs": [],
   "source": [
    "a = True\n",
    "b = False\n",
    "c = 1"
   ]
  },
  {
   "cell_type": "code",
   "execution_count": null,
   "id": "f2c51a49-cf2f-40d3-a7bb-81fa750c09f2",
   "metadata": {},
   "outputs": [],
   "source": [
    "print(a + c)\n",
    "print(b + c)\n"
   ]
  },
  {
   "cell_type": "code",
   "execution_count": null,
   "id": "cabe6fbc-9b65-4c3b-8019-5cfb7cdac63f",
   "metadata": {},
   "outputs": [],
   "source": [
    "int_num = 3\n",
    "float_num = 3.3\n",
    "complex_num = 3 + 3j\n",
    "\n",
    "\n"
   ]
  },
  {
   "cell_type": "code",
   "execution_count": null,
   "id": "4b95086b-65bf-48cc-9394-7d8e23dccaed",
   "metadata": {},
   "outputs": [],
   "source": [
    "print(int_num + float_num)\n",
    "print(int_num + complex_num)\n"
   ]
  },
  {
   "cell_type": "markdown",
   "id": "05ad2214-101f-4003-a760-f10853352b62",
   "metadata": {},
   "source": [
    "### 3.1 암시적 형변환 (자동으로 알아서 바뀌는 것)"
   ]
  },
  {
   "cell_type": "code",
   "execution_count": null,
   "id": "ecf40fd6-5eb5-42ad-a995-2bd095ed7838",
   "metadata": {},
   "outputs": [],
   "source": [
    "a = 1\n",
    "b = '번'\n"
   ]
  },
  {
   "cell_type": "code",
   "execution_count": null,
   "id": "41f9c0a7-fd31-41f6-93d9-80efaa6cacc7",
   "metadata": {},
   "outputs": [],
   "source": [
    "a + b"
   ]
  },
  {
   "cell_type": "code",
   "execution_count": null,
   "id": "4dc39c1c-998c-4c7b-94d3-a7435e55832e",
   "metadata": {},
   "outputs": [],
   "source": [
    "print(str(a) + b)"
   ]
  },
  {
   "cell_type": "code",
   "execution_count": null,
   "id": "e669f6cf-be15-4d86-a206-062b90a32d29",
   "metadata": {},
   "outputs": [],
   "source": [
    "a = '100'"
   ]
  },
  {
   "cell_type": "code",
   "execution_count": null,
   "id": "db6d5c9c-86c4-4c4b-b691-c9eb9c67d9fd",
   "metadata": {},
   "outputs": [],
   "source": [
    "print(type(a))\n",
    "print(type(int(a)))"
   ]
  },
  {
   "cell_type": "code",
   "execution_count": null,
   "id": "a067f019-74b1-4d63-96f2-ae06ba206a18",
   "metadata": {},
   "outputs": [],
   "source": [
    "age = input()"
   ]
  },
  {
   "cell_type": "code",
   "execution_count": 3,
   "id": "3144f528-d0ee-4c9c-8108-603d4d847fe5",
   "metadata": {},
   "outputs": [],
   "source": [
    "a = '3.3'"
   ]
  },
  {
   "cell_type": "code",
   "execution_count": 4,
   "id": "6fc34fbc-c04a-41dd-b221-457ce3e83cb2",
   "metadata": {},
   "outputs": [
    {
     "ename": "ValueError",
     "evalue": "invalid literal for int() with base 10: '3.3'",
     "output_type": "error",
     "traceback": [
      "\u001b[1;31m---------------------------------------------------------------------------\u001b[0m",
      "\u001b[1;31mValueError\u001b[0m                                Traceback (most recent call last)",
      "Cell \u001b[1;32mIn[4], line 1\u001b[0m\n\u001b[1;32m----> 1\u001b[0m \u001b[38;5;28mtype\u001b[39m(\u001b[38;5;28;43mint\u001b[39;49m\u001b[43m(\u001b[49m\u001b[43ma\u001b[49m\u001b[43m)\u001b[49m)\n",
      "\u001b[1;31mValueError\u001b[0m: invalid literal for int() with base 10: '3.3'"
     ]
    }
   ],
   "source": [
    "type(int(a))"
   ]
  },
  {
   "cell_type": "code",
   "execution_count": 5,
   "id": "558d6245-151d-4097-a446-dc7f94f00848",
   "metadata": {},
   "outputs": [
    {
     "data": {
      "text/plain": [
       "float"
      ]
     },
     "execution_count": 5,
     "metadata": {},
     "output_type": "execute_result"
    }
   ],
   "source": [
    "type(float(a))"
   ]
  },
  {
   "cell_type": "code",
   "execution_count": null,
   "id": "ffee9231-607f-43d1-986c-e38eb8819c9c",
   "metadata": {},
   "outputs": [],
   "source": []
  },
  {
   "cell_type": "code",
   "execution_count": 6,
   "id": "d384d911-a1f1-4479-95b7-9d7fc6fc0688",
   "metadata": {},
   "outputs": [],
   "source": [
    "a = 1\n",
    "b = 0\n",
    "c = 100\n",
    "\n"
   ]
  },
  {
   "cell_type": "code",
   "execution_count": 7,
   "id": "28ef2d8c-67c3-4151-96e0-13d442e3c053",
   "metadata": {},
   "outputs": [
    {
     "name": "stdout",
     "output_type": "stream",
     "text": [
      "True\n",
      "False\n",
      "True\n"
     ]
    }
   ],
   "source": [
    "print(bool(a))\n",
    "print(bool(b))\n",
    "print(bool(c))\n",
    "\n"
   ]
  },
  {
   "cell_type": "code",
   "execution_count": 8,
   "id": "dc6ad590-2a02-4fb0-8110-2353c62e98a8",
   "metadata": {},
   "outputs": [
    {
     "name": "stdout",
     "output_type": "stream",
     "text": [
      "False\n",
      "True\n"
     ]
    }
   ],
   "source": [
    "print(bool(''))\n",
    "print(bool('a'))\n"
   ]
  },
  {
   "cell_type": "markdown",
   "id": "21caf858-047a-4dcb-8693-8bbff12f6a3f",
   "metadata": {},
   "source": [
    "글자유무에 따라 참/거짓\n"
   ]
  },
  {
   "cell_type": "code",
   "execution_count": 11,
   "id": "5331a7f2-b3da-46ef-b35a-a60eaed6b0bf",
   "metadata": {},
   "outputs": [
    {
     "name": "stdout",
     "output_type": "stream",
     "text": [
      "False\n",
      "True\n"
     ]
    }
   ],
   "source": [
    "print(bool([]))\n",
    "print(bool([1, 2, 3]))\n"
   ]
  },
  {
   "cell_type": "markdown",
   "id": "487dc797-7df3-4830-9314-a105d88684a5",
   "metadata": {},
   "source": [
    "## 4. 시퀀스(sequence) 자료형\n",
    "- 시퀀스 : 데이터의 순서대로 나열된 자료구조 (순서대로 나열되어있다는 것은 정렬된 것과는 다르다.)\n",
    "\n",
    "1. 리스트(list)\n",
    "2. 튜플(tuple)\n",
    "3. 레인지(range)\n",
    "4. 문자열(string)\n",
    "\n",
    "\n"
   ]
  },
  {
   "cell_type": "markdown",
   "id": "860114cc-6a61-4a2a-97d3-32e626e8ccb0",
   "metadata": {},
   "source": [
    "### 4.1 List(배열)\n",
    "- 선언 : 변수이름 = [value1, value2, value3]\n",
    "- 접근 : 변수이름[index]\n",
    "\n"
   ]
  },
  {
   "cell_type": "code",
   "execution_count": 12,
   "id": "241824d9-236b-40b0-a476-ecf112366fcf",
   "metadata": {},
   "outputs": [
    {
     "name": "stdout",
     "output_type": "stream",
     "text": [
      "[]\n",
      "<class 'list'>\n"
     ]
    }
   ],
   "source": [
    "l = []\n",
    "print(l)\n",
    "print(type(l))\n",
    "\n"
   ]
  },
  {
   "cell_type": "code",
   "execution_count": 23,
   "id": "3f755d69-b603-4dda-863f-8414ee2c9f80",
   "metadata": {},
   "outputs": [
    {
     "name": "stdout",
     "output_type": "stream",
     "text": [
      "['서울', '대전', '부산']\n",
      "<class 'list'>\n",
      "서울\n",
      "대전\n",
      "부산\n",
      "['서울', '대전', '제주']\n"
     ]
    }
   ],
   "source": [
    "#선언\n",
    "location = ['서울', '대전', '부산']\n",
    "print(location)\n",
    "print(type(location))\n",
    "\n",
    "#접근\n",
    "print(location[0])\n",
    "print(location[1])\n",
    "print(location[2])\n",
    "\n",
    "location[2] = '제주'\n",
    "print(location)"
   ]
  },
  {
   "cell_type": "code",
   "execution_count": 17,
   "id": "32f9b650-7405-4d2d-a0a3-764fee8ec4a9",
   "metadata": {},
   "outputs": [
    {
     "ename": "IndexError",
     "evalue": "list index out of range",
     "output_type": "error",
     "traceback": [
      "\u001b[1;31m---------------------------------------------------------------------------\u001b[0m",
      "\u001b[1;31mIndexError\u001b[0m                                Traceback (most recent call last)",
      "Cell \u001b[1;32mIn[17], line 1\u001b[0m\n\u001b[1;32m----> 1\u001b[0m \u001b[38;5;28mprint\u001b[39m(\u001b[43mlocation\u001b[49m\u001b[43m[\u001b[49m\u001b[38;5;241;43m3\u001b[39;49m\u001b[43m]\u001b[49m)\n",
      "\u001b[1;31mIndexError\u001b[0m: list index out of range"
     ]
    }
   ],
   "source": [
    "print(location[3])\n",
    "# 데이터가 0~2번째밖에 없는데 3을 입력해서 오류가 난 상황\n"
   ]
  },
  {
   "cell_type": "code",
   "execution_count": 19,
   "id": "dbb53d0d-d8f3-4c4c-a595-0f814331ec33",
   "metadata": {},
   "outputs": [
    {
     "name": "stdout",
     "output_type": "stream",
     "text": [
      "부산\n",
      "대전\n",
      "서울\n"
     ]
    }
   ],
   "source": [
    "print(location[-1])\n",
    "print(location[-2])\n",
    "print(location[-3])"
   ]
  },
  {
   "cell_type": "code",
   "execution_count": 20,
   "id": "41464cd1-10a9-4011-9180-72585dd39826",
   "metadata": {},
   "outputs": [
    {
     "ename": "IndexError",
     "evalue": "list index out of range",
     "output_type": "error",
     "traceback": [
      "\u001b[1;31m---------------------------------------------------------------------------\u001b[0m",
      "\u001b[1;31mIndexError\u001b[0m                                Traceback (most recent call last)",
      "Cell \u001b[1;32mIn[20], line 1\u001b[0m\n\u001b[1;32m----> 1\u001b[0m \u001b[38;5;28mprint\u001b[39m(\u001b[43mlocation\u001b[49m\u001b[43m[\u001b[49m\u001b[38;5;241;43m-\u001b[39;49m\u001b[38;5;241;43m4\u001b[39;49m\u001b[43m]\u001b[49m)\n\u001b[0;32m      2\u001b[0m \u001b[38;5;66;03m# 데이이터가 -1~-3번째밖에 없는데 -4를 입력해서 오류가 난 상황\u001b[39;00m\n",
      "\u001b[1;31mIndexError\u001b[0m: list index out of range"
     ]
    }
   ],
   "source": [
    "print(location[-4])\n",
    "# 데이이터가 -1~-3번째밖에 없는데 -4를 입력해서 오류가 난 상황"
   ]
  },
  {
   "cell_type": "markdown",
   "id": "7c2e96da-49d6-4468-b069-945bd07de316",
   "metadata": {},
   "source": [
    "### 4.2 Tuple\n",
    "- 선언 : 변수이름 = (value1, value2, value3, ...)\n",
    "- 접근 : 변수이름[index]\n",
    "- List와 유사하지만 수정불가능(immutable)하다. \n"
   ]
  },
  {
   "cell_type": "code",
   "execution_count": 24,
   "id": "51da68a1-9500-4666-a6b1-69a778e3690b",
   "metadata": {},
   "outputs": [
    {
     "name": "stdout",
     "output_type": "stream",
     "text": [
      "(1, 2, 3)\n",
      "<class 'tuple'>\n",
      "3\n"
     ]
    }
   ],
   "source": [
    "t = (1, 2, 3)\n",
    "print(t)\n",
    "print(type(t))\n",
    "print(t[2])\n",
    "\n",
    "\n"
   ]
  },
  {
   "cell_type": "code",
   "execution_count": 25,
   "id": "5925a676-d670-4ff4-8858-91a171a46fd1",
   "metadata": {},
   "outputs": [
    {
     "ename": "TypeError",
     "evalue": "'tuple' object does not support item assignment",
     "output_type": "error",
     "traceback": [
      "\u001b[1;31m---------------------------------------------------------------------------\u001b[0m",
      "\u001b[1;31mTypeError\u001b[0m                                 Traceback (most recent call last)",
      "Cell \u001b[1;32mIn[25], line 1\u001b[0m\n\u001b[1;32m----> 1\u001b[0m \u001b[43mt\u001b[49m\u001b[43m[\u001b[49m\u001b[38;5;241;43m2\u001b[39;49m\u001b[43m]\u001b[49m \u001b[38;5;241m=\u001b[39m \u001b[38;5;241m100\u001b[39m\n",
      "\u001b[1;31mTypeError\u001b[0m: 'tuple' object does not support item assignment"
     ]
    }
   ],
   "source": [
    "t[2] = 100\n",
    "# 튜플은 데이터 수정이 불가능하므로 발생하는 오류\n"
   ]
  },
  {
   "cell_type": "code",
   "execution_count": 32,
   "id": "870ce79d-160f-4e47-91c1-bd85946f830d",
   "metadata": {},
   "outputs": [
    {
     "name": "stdout",
     "output_type": "stream",
     "text": [
      "<class 'tuple'>\n",
      "2\n",
      "1\n"
     ]
    }
   ],
   "source": [
    "result = divmod(9,4)\n",
    "print(type(result))\n",
    "print(result[0])\n",
    "print(result[1])"
   ]
  },
  {
   "cell_type": "code",
   "execution_count": 34,
   "id": "3f3f17df-ff10-45c2-8657-dab5680a88c8",
   "metadata": {},
   "outputs": [
    {
     "name": "stdout",
     "output_type": "stream",
     "text": [
      "1 2\n",
      "2 1\n"
     ]
    }
   ],
   "source": [
    "x, y = (1, 2)\n",
    "print(x,y)\n",
    "\n",
    "x, y = (y, x)\n",
    "print(x,y)\n"
   ]
  },
  {
   "cell_type": "markdown",
   "id": "d6a6e41f-7d5b-4fd2-976b-9796e58b2cba",
   "metadata": {},
   "source": [
    "### 4.3 range\n",
    "- 범위 데이터를 만들 때 사용\n",
    "- range(n) : 0부터 n-1까지의 범위 (0이상 n미만)\n",
    "- range(n, m) : n부터 m-1까지의 범위 (n이상 m미만)\n",
    "- range(n, m, s) : n부터 m-1까지 범위, +s만큼 증가하는 범위\n",
    "\n"
   ]
  },
  {
   "cell_type": "code",
   "execution_count": 36,
   "id": "f6b7aed1-351f-4592-b4c8-659f2f622e6c",
   "metadata": {},
   "outputs": [
    {
     "name": "stdout",
     "output_type": "stream",
     "text": [
      "range(0, 5)\n",
      "<class 'range'>\n"
     ]
    }
   ],
   "source": [
    "r = range(5)\n",
    "print(r)\n",
    "print(type(r))"
   ]
  },
  {
   "cell_type": "code",
   "execution_count": 38,
   "id": "15226c8f-e62d-4c74-b065-223b36b07918",
   "metadata": {},
   "outputs": [
    {
     "name": "stdout",
     "output_type": "stream",
     "text": [
      "range(5, 15)\n"
     ]
    }
   ],
   "source": [
    "r = range(5, 15)\n",
    "print(r)\n"
   ]
  },
  {
   "cell_type": "code",
   "execution_count": 42,
   "id": "d11c359b-6eaa-4d80-945e-b08613dc1711",
   "metadata": {},
   "outputs": [
    {
     "name": "stdout",
     "output_type": "stream",
     "text": [
      "range(5, 15, 2)\n"
     ]
    },
    {
     "data": {
      "text/plain": [
       "[5, 7, 9, 11, 13]"
      ]
     },
     "execution_count": 42,
     "metadata": {},
     "output_type": "execute_result"
    }
   ],
   "source": [
    "r = range(5, 15, 2)\n",
    "print(r)\n",
    "list(r)"
   ]
  },
  {
   "cell_type": "markdown",
   "id": "849a1024-84e5-458b-a5f1-28f0bfa08282",
   "metadata": {},
   "source": [
    "### 4.4. string\n",
    "기본 데이터 구조 참고\n"
   ]
  },
  {
   "cell_type": "markdown",
   "id": "9b281d06-4468-4b8c-839e-c7fbf291acc7",
   "metadata": {},
   "source": [
    "### 4.5 시퀀스에서 사용 가능한 연산/함수"
   ]
  },
  {
   "cell_type": "code",
   "execution_count": 45,
   "id": "2f867547-409e-4917-b9c3-80e4687b031c",
   "metadata": {},
   "outputs": [],
   "source": [
    "my_list = [1, 2, 3, 4, 5]\n",
    "my_tuple = (11, 22, 33, 44, 55)\n",
    "my_range = range(1, 10, 2)\n",
    "my_string = '일이삼사오'\n",
    "\n",
    "\n"
   ]
  },
  {
   "cell_type": "code",
   "execution_count": 47,
   "id": "92b41d11-debb-417f-8f5a-1cff1b28330a",
   "metadata": {},
   "outputs": [
    {
     "name": "stdout",
     "output_type": "stream",
     "text": [
      "2\n",
      "22\n",
      "3\n",
      "이\n"
     ]
    }
   ],
   "source": [
    "# indexing : 순서로 각 데이터 요소에 접근하는 것\n",
    "\n",
    "print(my_list[1])\n",
    "print(my_tuple[1])\n",
    "print(my_range[1])\n",
    "print(my_string[1])\n",
    "#시퀀스 데이터에서 인덱스로 접근할 때 (몇 번째 요소에 접근할 때)는 항상 대괄호 [] 사용\n",
    "\n",
    "\n",
    "\n"
   ]
  },
  {
   "cell_type": "code",
   "execution_count": 56,
   "id": "433d3218-a77a-4058-86cb-45134c8be143",
   "metadata": {},
   "outputs": [
    {
     "name": "stdout",
     "output_type": "stream",
     "text": [
      "[2, 3]\n",
      "(22, 33)\n",
      "range(3, 7, 2)\n",
      "이삼\n",
      "[2, 4]\n",
      "range(5, 11, 4)\n",
      "[1, 2, 3]\n",
      "[4, 5]\n"
     ]
    }
   ],
   "source": [
    "# slicing : 데이터를 나눠서 자르는 것\n",
    "\n",
    "print(my_list[1:3]) # 1번 이상 3번 미만\n",
    "print(my_tuple[1:3])\n",
    "print(my_range[1:3])\n",
    "print(my_string[1:3])\n",
    "\n",
    "print(my_list[1:4:2]) # 1번이상 4번미만의 수를 2의 간격으로 나열\n",
    "print(my_range[2:7:2]) #\n",
    "\n",
    "print(my_list[ :3])\n",
    "print(my_list[3: ])"
   ]
  },
  {
   "cell_type": "code",
   "execution_count": 64,
   "id": "92722254-df2a-43a0-bea0-bc745c06b2b1",
   "metadata": {},
   "outputs": [
    {
     "name": "stdout",
     "output_type": "stream",
     "text": [
      "False\n",
      "True\n",
      "True\n",
      "True\n"
     ]
    }
   ],
   "source": [
    "# in : 어떤 글자가 해당 범위에 들어있는지 확인\n",
    "\n",
    "print(11 in my_list)\n",
    "print(11 in my_tuple)\n",
    "print(1 in my_range)\n",
    "print('일' in my_string)"
   ]
  },
  {
   "cell_type": "code",
   "execution_count": 62,
   "id": "85960bc6-5f7d-47a1-9e05-e631501d7079",
   "metadata": {},
   "outputs": [
    {
     "name": "stdout",
     "output_type": "stream",
     "text": [
      "True\n",
      "True\n",
      "False\n",
      "True\n"
     ]
    }
   ],
   "source": [
    "# not in : 어떤 글자가 해당 범위에 들어있지 '않은지' 확인\n",
    "\n",
    "print(11 not in my_list)\n",
    "print(100 not in my_tuple)\n",
    "print(1 not in my_range)\n",
    "print('구' not in my_string)"
   ]
  },
  {
   "cell_type": "code",
   "execution_count": 68,
   "id": "283704fd-225e-46e9-ba04-5d0325dedbda",
   "metadata": {},
   "outputs": [
    {
     "name": "stdout",
     "output_type": "stream",
     "text": [
      "[1, 2, 3, 4, 5, 6, 7, 8, 9, 10]\n",
      "(11, 22, 33, 44, 55, 66, 77, 88)\n"
     ]
    }
   ],
   "source": [
    "# concatenation\n",
    "print(my_list + [6, 7, 8, 9, 10])\n",
    "print(my_tuple + (66, 77, 88))"
   ]
  },
  {
   "cell_type": "code",
   "execution_count": 72,
   "id": "af230d1e-cab4-434d-8d03-6bab5990f5f1",
   "metadata": {},
   "outputs": [
    {
     "name": "stdout",
     "output_type": "stream",
     "text": [
      "일이삼사오일이삼사오일이삼사오\n",
      "[1, 2, 3, 4, 5, 1, 2, 3, 4, 5, 1, 2, 3, 4, 5]\n",
      "[0, 0, 0, 0, 0, 0, 0, 0, 0, 0]\n",
      "[[0, 0, 0, 0, 0, 0, 0, 0, 0, 0], [0, 0, 0, 0, 0, 0, 0, 0, 0, 0], [0, 0, 0, 0, 0, 0, 0, 0, 0, 0], [0, 0, 0, 0, 0, 0, 0, 0, 0, 0], [0, 0, 0, 0, 0, 0, 0, 0, 0, 0], [0, 0, 0, 0, 0, 0, 0, 0, 0, 0], [0, 0, 0, 0, 0, 0, 0, 0, 0, 0], [0, 0, 0, 0, 0, 0, 0, 0, 0, 0], [0, 0, 0, 0, 0, 0, 0, 0, 0, 0], [0, 0, 0, 0, 0, 0, 0, 0, 0, 0]]\n"
     ]
    }
   ],
   "source": [
    "# *\n",
    "print(my_string * 3)\n",
    "print(my_list * 3)\n",
    "\n",
    "print([0] * 10)\n",
    "print([[0] * 10] * 10)"
   ]
  },
  {
   "cell_type": "code",
   "execution_count": 78,
   "id": "e7fda0e8-8542-4556-87c8-0e29b22f4741",
   "metadata": {},
   "outputs": [
    {
     "name": "stdout",
     "output_type": "stream",
     "text": [
      "5\n",
      "11\n",
      "9\n",
      "1\n"
     ]
    }
   ],
   "source": [
    "# 함수\n",
    "print(len(my_list)) # length 길이 출력\n",
    "print(min(my_tuple)) # 가장 작은 값 출력\n",
    "print(max(my_range)) # 가장 큰 값 출력\n",
    "print(my_list.count(1)) # 전체 데이터 중 1이 몇 개인지 세서 출력"
   ]
  },
  {
   "cell_type": "markdown",
   "id": "5465b3ed-3578-40b4-8112-6fbf60a85bfa",
   "metadata": {},
   "source": [
    "## 5. 시퀀스 데이터가 아닌 자료구조 \n",
    "### 5.1 set\n",
    "수학에서 사용하는 집합과 동일하게 처리(특징 : 중복된 값이 없음)\n",
    "- 선언 : 변수이름 = {value1, value2, value3}\n"
   ]
  },
  {
   "cell_type": "code",
   "execution_count": 79,
   "id": "e4129fbf-079e-4805-bfba-96c357054bf0",
   "metadata": {},
   "outputs": [],
   "source": [
    "my_set_a = {1, 2, 3, 4, 5}\n",
    "my_set_b = {1, 3, 5, 7, 9}\n",
    "# 순서가 없으므로 n 번째 데이터로 인덱싱하는 것 불가능"
   ]
  },
  {
   "cell_type": "code",
   "execution_count": 83,
   "id": "d459b180-7369-41e3-baa3-97e5de861dfa",
   "metadata": {},
   "outputs": [
    {
     "name": "stdout",
     "output_type": "stream",
     "text": [
      "{2, 4}\n",
      "{1, 2, 3, 4, 5, 7, 9}\n",
      "{1, 3, 5}\n"
     ]
    }
   ],
   "source": [
    "# 차집합 연산\n",
    "print(my_set_a - my_set_b)\n",
    "\n",
    "# 합집합 연산 (or)\n",
    "print(my_set_a | my_set_b) \n",
    "\n",
    "# 교집합 연산 (and)\n",
    "print(my_set_a & my_set_b)"
   ]
  },
  {
   "cell_type": "code",
   "execution_count": 85,
   "id": "91c63c99-5771-43e2-a31c-99125111da54",
   "metadata": {},
   "outputs": [
    {
     "name": "stdout",
     "output_type": "stream",
     "text": [
      "{1, 2, 3, 4, 5, 6, 7, 8}\n"
     ]
    }
   ],
   "source": [
    "# set는 중복된 값을 모두 없애므로, 단순 리스트를 set로 형변환하면 중복값이 없어짐 \n",
    "my_list = [1, 2, 3, 1, 4, 1, 2, 3, 5, 6, 7, 8, 2, 2]\n",
    "print(set(my_list))"
   ]
  },
  {
   "cell_type": "code",
   "execution_count": null,
   "id": "b9204e71-7299-4870-a2e7-75d1ca75517f",
   "metadata": {},
   "outputs": [],
   "source": [
    "### 5.2 dictionary \n",
    "- 선언 : 변수이름 = {key1: value1, key2: value2, key3: value3}\n",
    "- 접근 : 변수이름[key]\n",
    "- dictionary는 key와 value가 쌍으로 이루어져 있다.\n",
    "- key에는 immutable한 모든 값(불변값 : string, integer, ...)을 사용 가능하다. \n",
    "- value에는 모든 데이터를 사용 가능하다. (list, dict도 가능)"
   ]
  },
  {
   "cell_type": "code",
   "execution_count": 87,
   "id": "baed322d-9e8b-4fa7-b675-717a710afef8",
   "metadata": {},
   "outputs": [
    {
     "data": {
      "text/plain": [
       "'02'"
      ]
     },
     "execution_count": 87,
     "metadata": {},
     "output_type": "execute_result"
    }
   ],
   "source": [
    "my_dict = {'서울': '02', '경기': '031'}\n",
    "my_dict['서울']"
   ]
  },
  {
   "cell_type": "code",
   "execution_count": 92,
   "id": "fb63eacf-cdb0-4943-96a0-b16bb3f2c2d0",
   "metadata": {},
   "outputs": [
    {
     "name": "stdout",
     "output_type": "stream",
     "text": [
      "10\n",
      "[1, 2, 3, 4, 5]\n",
      "4\n",
      "11\n"
     ]
    }
   ],
   "source": [
    "dict_a = {\n",
    "    'name': 'haeun',\n",
    "    'age': 10,\n",
    "    'location': 'seoul',\n",
    "    'numbers': [1, 2, 3, 4, 5],\n",
    "    'friends': {\n",
    "        'a': 10,\n",
    "        'b': 11,\n",
    "\n",
    "    },\n",
    "\n",
    "}\n",
    "\n",
    "\n",
    "print(dict_a['age'])\n",
    "print(dict_a['numbers'])\n",
    "print(dict_a['numbers'][3]) # 리스트의 3번째 값 출력\n",
    "print(dict_a['friends']['b'])\n"
   ]
  },
  {
   "cell_type": "code",
   "execution_count": 97,
   "id": "af4da783-a95c-4d79-8d38-bac3ce67b938",
   "metadata": {},
   "outputs": [
    {
     "data": {
      "text/plain": [
       "dict_keys(['name', 'age', 'location', 'numbers', 'friends'])"
      ]
     },
     "execution_count": 97,
     "metadata": {},
     "output_type": "execute_result"
    }
   ],
   "source": [
    "# key들만 출력\n",
    "dict_a.keys()"
   ]
  },
  {
   "cell_type": "code",
   "execution_count": 98,
   "id": "1f3a4760-cdca-44f7-9844-a5f20fda4eb5",
   "metadata": {},
   "outputs": [
    {
     "data": {
      "text/plain": [
       "dict_values(['haeun', 10, 'seoul', [1, 2, 3, 4, 5], {'a': 10, 'b': 11}])"
      ]
     },
     "execution_count": 98,
     "metadata": {},
     "output_type": "execute_result"
    }
   ],
   "source": [
    "# value들만 출력\n",
    "dict_a.values()"
   ]
  },
  {
   "cell_type": "markdown",
   "id": "b33ef466-5474-4c3c-9bd1-471d0c44d6bb",
   "metadata": {},
   "source": [
    "## 데이터 타입\n",
    "1. Number\n",
    "2. Boolean\n",
    "3. String\n",
    "\n",
    "## 자료구조\n",
    "- 시퀀스 자료형\n",
    "    1. [List] : mutable\n",
    "    2. (Tuple) : immutable\n",
    "    3. range() : immutable\n",
    "    4. 'String' : immutable\n",
    "\n",
    "- 시퀀스가 아닌 자료형\n",
    "    1. {Set} : mutable\n",
    "    2. {Dict: ionary} : mutable"
   ]
  },
  {
   "cell_type": "code",
   "execution_count": null,
   "id": "a2ba6cfa-f2c6-4e2c-b58c-2837a4fc30d1",
   "metadata": {},
   "outputs": [],
   "source": []
  },
  {
   "cell_type": "code",
   "execution_count": null,
   "id": "3b7b7d3d-5f7e-401f-a9a4-13de41d36bbb",
   "metadata": {},
   "outputs": [],
   "source": []
  },
  {
   "cell_type": "code",
   "execution_count": null,
   "id": "1f11760f-6e85-4be4-9aad-896be2c9a8e0",
   "metadata": {},
   "outputs": [],
   "source": []
  },
  {
   "cell_type": "code",
   "execution_count": null,
   "id": "62c3f86a-0f69-4646-a3c1-3ecae8ec3635",
   "metadata": {},
   "outputs": [],
   "source": []
  },
  {
   "cell_type": "code",
   "execution_count": null,
   "id": "dca7c728-4f45-4cf7-836e-4a7f93c9a559",
   "metadata": {},
   "outputs": [],
   "source": []
  },
  {
   "cell_type": "code",
   "execution_count": null,
   "id": "b8071922-2ab9-472b-bad2-69fed182b3b6",
   "metadata": {},
   "outputs": [],
   "source": []
  },
  {
   "cell_type": "code",
   "execution_count": null,
   "id": "dd8edf89-5476-4026-889e-027bd260cc32",
   "metadata": {},
   "outputs": [],
   "source": []
  }
 ],
 "metadata": {
  "kernelspec": {
   "display_name": "Python 3 (ipykernel)",
   "language": "python",
   "name": "python3"
  },
  "language_info": {
   "codemirror_mode": {
    "name": "ipython",
    "version": 3
   },
   "file_extension": ".py",
   "mimetype": "text/x-python",
   "name": "python",
   "nbconvert_exporter": "python",
   "pygments_lexer": "ipython3",
   "version": "3.11.5"
  }
 },
 "nbformat": 4,
 "nbformat_minor": 5
}
