{
 "cells": [
  {
   "cell_type": "markdown",
   "id": "be187794-4f1c-4f5a-a98e-ddb303f41af6",
   "metadata": {},
   "source": [
    "# 제어문"
   ]
  },
  {
   "cell_type": "markdown",
   "id": "c4dd08f2-3d49-40b8-8f9c-c9fb4fab6687",
   "metadata": {},
   "source": [
    "## 조건문(if문)\n",
    "\n",
    "```python\n",
    "if <조건식>: \n",
    "    if의 조건식이 참인 경우 실행하는 코드\n",
    "else:\n",
    "    if의 조건식이 거짓인 경우 실행하는 코드 \n",
    "```\n",
    "\n",
    "1. 'if'문은 반드시 참/거짓을 판단할 수 있는 '조건식'과 함께 사용한다. (0 or 1이 나올 경우 자동으로 형변환 발생하여 참/거짓 형태로 바뀜)\n",
    "2. '조건식'이 참인 경우 `:` 이후의 문장을 실행한다.\n",
    "3. '조건식'이 거짓인 경우 `else:` 이후의 문장을 실행한다.\n"
   ]
  },
  {
   "cell_type": "code",
   "execution_count": null,
   "id": "3c483f1f-8e16-41d9-8152-561b1585884a",
   "metadata": {},
   "outputs": [],
   "source": [
    "my_string = input()\n",
    "\n",
    "if my_string == '12/25':\n",
    "    print('크리스마스')\n",
    "else:\n",
    "    print('크리스마스 아님')"
   ]
  },
  {
   "cell_type": "code",
   "execution_count": null,
   "id": "454e1b47-e61a-4384-9193-f2973661a632",
   "metadata": {},
   "outputs": [],
   "source": [
    "num = 123\n",
    "num = int(num)\n",
    "\n",
    "if num % 2 == 0:\n",
    "    print('짝수')\n",
    "else:\n",
    "    print('홀수')"
   ]
  },
  {
   "cell_type": "code",
   "execution_count": null,
   "id": "48d82dff-1dce-4a22-a068-af0859a26992",
   "metadata": {},
   "outputs": [],
   "source": [
    "num = 123\n",
    "num = int(num)\n",
    "\n",
    "if num % 2 == 1:\n",
    "    print('홀수')\n",
    "else:\n",
    "    print('짝수')"
   ]
  },
  {
   "cell_type": "code",
   "execution_count": null,
   "id": "a0015d1c-a344-4415-918e-28fedecb2fac",
   "metadata": {},
   "outputs": [],
   "source": [
    "# num을 2로 나눈 나머지는 0, 1 두 가지 경우가 있다. \n",
    "# if 조건식에 0, 1은 자동형변환이 일어나 False, True로 변환된다. \n",
    "\n",
    "num = 123\n",
    "num = int(num)\n",
    "\n",
    "if num % 2:\n",
    "    print('홀수')\n",
    "else:\n",
    "    print('짝수')"
   ]
  },
  {
   "cell_type": "markdown",
   "id": "93a540d2-4861-4290-9a89-e6eb43055d20",
   "metadata": {},
   "source": [
    "### elif\n",
    "\n",
    "```python\n",
    "if <조건식>:\n",
    "    if 조건이 참인 경우 실행\n",
    "elif <조건식>:\n",
    "    elif 조건이 참인 경우 실행\n",
    "...\n",
    "...\n",
    "else:\n",
    "    위의 조건식에 하나도 부합하지 않는 경우 실행\n",
    "```\n",
    "- 위에서부터 차근차근 걸려서 도출됨. 깔때기 연속처럼"
   ]
  },
  {
   "cell_type": "code",
   "execution_count": null,
   "id": "1c57ec0c-1efd-4b00-85b7-02f975ad0327",
   "metadata": {},
   "outputs": [],
   "source": [
    "# 성적 매기기\n",
    "# 90점 이상 A (95이상 good 추가)\n",
    "# 80점 이상 B\n",
    "# 70점 이상 C\n",
    "# 나머지 F\n",
    "\n",
    "score = 95\n",
    "\n",
    "if score >= 90:\n",
    "    print('A')\n",
    "    if score >= 95:\n",
    "        print('good')\n",
    "elif 90 > score >= 80: \n",
    "    print('B')\n",
    "elif 80 > score >= 70:\n",
    "    print('C')\n",
    "else:\n",
    "    print('F')"
   ]
  },
  {
   "cell_type": "code",
   "execution_count": null,
   "id": "bb35d50d-3e02-4136-9d90-a82d75c78b29",
   "metadata": {},
   "outputs": [],
   "source": []
  },
  {
   "cell_type": "code",
   "execution_count": null,
   "id": "9599c7e7-5fa6-415b-9db3-69cc7224a909",
   "metadata": {},
   "outputs": [],
   "source": [
    "age = input()"
   ]
  },
  {
   "cell_type": "code",
   "execution_count": null,
   "id": "c852159a-ca6f-4006-9d82-b37a31f64e6a",
   "metadata": {},
   "outputs": [],
   "source": []
  },
  {
   "cell_type": "markdown",
   "id": "44e43172-c64e-49f4-a23d-c1df2fd53b6a",
   "metadata": {},
   "source": [
    "### 조건표현식\n",
    "앞서배운 조건문을 좀더 짧게 표현하는 것이 조건표현식. 그러나 가독성이 떨어지는 면이 있음. "
   ]
  },
  {
   "cell_type": "code",
   "execution_count": null,
   "id": "77c49ba8-8e1f-4b44-a554-ba7a13b7f4e6",
   "metadata": {},
   "outputs": [],
   "source": [
    "print('True') if 1 < 0 else print('False')"
   ]
  },
  {
   "cell_type": "code",
   "execution_count": null,
   "id": "f81c4017-7e90-4b99-b298-4cb571705899",
   "metadata": {},
   "outputs": [],
   "source": [
    "print('True') if 1 < 2 else print('False')"
   ]
  },
  {
   "cell_type": "code",
   "execution_count": null,
   "id": "17a84279-7e9c-4dde-9efd-c7a15de036df",
   "metadata": {},
   "outputs": [],
   "source": [
    "# 위와 똑같음\n",
    "if 1< 0:\n",
    "        print('True')\n",
    "else:\n",
    "        print('False')"
   ]
  },
  {
   "cell_type": "code",
   "execution_count": null,
   "id": "3700fab6-d45a-4059-a0e0-11b20ee72e7b",
   "metadata": {},
   "outputs": [],
   "source": [
    "num = 5\n",
    "\n",
    "if num >= 0:\n",
    "    value = num\n",
    "else:\n",
    "    value = 0\n",
    "\n",
    "print(value)"
   ]
  },
  {
   "cell_type": "code",
   "execution_count": null,
   "id": "7fa0948c-b63f-42a4-bda1-16b0d0bc05b7",
   "metadata": {},
   "outputs": [],
   "source": [
    "num = -5\n",
    "\n",
    "if num >= 0:\n",
    "    value = num\n",
    "else:\n",
    "    value = 0\n",
    "\n",
    "print(value)"
   ]
  },
  {
   "cell_type": "code",
   "execution_count": null,
   "id": "54b80f0c-370c-4f80-9957-6608d5b48c7a",
   "metadata": {},
   "outputs": [],
   "source": [
    "num = 5\n",
    "value = num if num >= 0 else 0\n",
    "# 등호는 항상 마지막에 연산. 오른쪽거 다 한 후 왼쪽에 할당. \n",
    "# 오른쪽 코드 먼저 실행 : 가운데 조건식 num >= 0 먼저 계산 >> 결과에 따라 조건식 앞뒤에 각각 있는 num 또는 0 중에 선택됨\n",
    "print(value)"
   ]
  },
  {
   "cell_type": "code",
   "execution_count": null,
   "id": "57dc38d2-52e7-4581-8023-936940fcfafb",
   "metadata": {},
   "outputs": [],
   "source": [
    "num = -5\n",
    "value = num if num >= 0 else 0\n",
    "print(value)"
   ]
  },
  {
   "cell_type": "code",
   "execution_count": null,
   "id": "de190163-47ef-49d8-9f01-3d576fc06816",
   "metadata": {},
   "outputs": [],
   "source": [
    "num = 10\n",
    "if num % 2 == 1:\n",
    "    result = '홀수'\n",
    "else:\n",
    "    result = '짝수'\n",
    "print(result)"
   ]
  },
  {
   "cell_type": "code",
   "execution_count": null,
   "id": "24d8b179-b7c0-40b9-9fc9-c4244080e094",
   "metadata": {},
   "outputs": [],
   "source": [
    "num = 5\n",
    "result = '홀수' if num % 2 == 1 else '짝수'\n",
    "print(result)"
   ]
  },
  {
   "cell_type": "markdown",
   "id": "e03e5fb1-61c0-4663-8928-2bbfbadcb5ce",
   "metadata": {},
   "source": [
    "## 반복문\n",
    "\n",
    "### while문\n",
    "```python\n",
    "while <조건식>:\n",
    "    실행할 코드 \n",
    "#코드실행순서 : while문 내 조건식 먼저 실행 >> True일 때는 아래 실행할 코드 실행 >> 다시 while문으로 올라가 조건식 판별 >> 만약 False로 바뀐다면? >> 아래 코드로 넘어가지 못하고 while문 종료 (whilie문 탈출)\n",
    "#이때 코드가 무한루프에 빠지지 않도록 탈출코드를 넣어서 반복문을 작성해야 함. \n",
    "```    "
   ]
  },
  {
   "cell_type": "code",
   "execution_count": null,
   "id": "b10cd671-4e81-4607-b5a8-1b244f4cdbfe",
   "metadata": {},
   "outputs": [],
   "source": [
    "a = 0\n",
    "\n",
    "while a < 5:\n",
    "    print(a)\n",
    "    a += 1 # a = a + 1와 같음 "
   ]
  },
  {
   "cell_type": "code",
   "execution_count": null,
   "id": "f8785964-2178-4afa-b4a9-b87e3adcdd92",
   "metadata": {},
   "outputs": [],
   "source": [
    "greeting = ''\n",
    "\n",
    "while greeting != 'hi':\n",
    "    greeting = input('say hello : ')"
   ]
  },
  {
   "cell_type": "markdown",
   "id": "1e604c08-f9e7-41f9-8857-d7745ee4c57d",
   "metadata": {},
   "source": [
    "### for문\n",
    "정해진 범위 내의 반복\n",
    "\n",
    "```python\n",
    "for variable in sequence:\n",
    "# sequence : 4가지 중 하나 아무거나 가능 (순서로 만들어진 여러 개의 집합)\n",
    "# variable : sequence 집합에서 꺼내온 데이터\n",
    "    실행할 코드 \n",
    "```"
   ]
  },
  {
   "cell_type": "code",
   "execution_count": null,
   "id": "1c68e569-a6b0-4dad-91df-be417edcfcab",
   "metadata": {},
   "outputs": [],
   "source": [
    "#1. list\n",
    "numbers = [1, 2, 3, 4, 5]\n",
    "\n",
    "for number in numbers: #numbers 집합에서 데이터들을 하나씩 꺼내오는 상황\n",
    "    print(number)"
   ]
  },
  {
   "cell_type": "code",
   "execution_count": null,
   "id": "6a48bdc4-10ef-4849-800d-392ee62a10f4",
   "metadata": {},
   "outputs": [],
   "source": [
    "#2. string\n",
    "word = input('write words : ')\n",
    "\n",
    "for char in word:\n",
    "    print(char)"
   ]
  },
  {
   "cell_type": "code",
   "execution_count": null,
   "id": "1c557665-24e6-4077-8cba-0e989ffd2a65",
   "metadata": {},
   "outputs": [],
   "source": [
    "#3. range\n",
    "for i in range(5):\n",
    "    print(i)\n",
    "# 알고리즘 문제에 빈출"
   ]
  },
  {
   "cell_type": "code",
   "execution_count": null,
   "id": "70400a49-e298-4dfd-9f36-b1686dc23ef5",
   "metadata": {},
   "outputs": [],
   "source": [
    "#4. tuple\n",
    "for i in (1, 2, 3, 4, 5):\n",
    "    print(i)"
   ]
  },
  {
   "cell_type": "code",
   "execution_count": null,
   "id": "15852782-6145-47bd-b414-4b5ba93b6e04",
   "metadata": {},
   "outputs": [],
   "source": [
    "my_tuple = (1, 2, 3, 4, 5)\n",
    "for i in my_tuple:\n",
    "    print(i)"
   ]
  },
  {
   "cell_type": "code",
   "execution_count": null,
   "id": "d249540a-fbb1-4c88-8d99-08bd325550a2",
   "metadata": {},
   "outputs": [],
   "source": [
    "#연습1. 1~30까지 숫자 중에서 홀수를 출력\n",
    "for i in range(31):\n",
    "    if i % 2 == 1:\n",
    "        print(i)"
   ]
  },
  {
   "cell_type": "code",
   "execution_count": null,
   "id": "5292e753-9a00-449b-bc66-20bac118b7f1",
   "metadata": {},
   "outputs": [],
   "source": [
    "#연습1. 1~30까지 숫자 중에서 홀수를 출력 (해제)\n",
    "\n",
    "numbers = range(31)\n",
    "\n",
    "for number in numbers:\n",
    "    if number % 2 == 1:\n",
    "        print(number)"
   ]
  },
  {
   "cell_type": "code",
   "execution_count": null,
   "id": "a42ca1d9-a224-4209-ab0f-6a1f6d481796",
   "metadata": {},
   "outputs": [],
   "source": [
    "#연습2. 1~30까지 숫자 중에서 홀수를 모아서 리스트로 출력 (해제)\n",
    "\n",
    "numbers = range(31)\n",
    "result = []\n",
    "\n",
    "for number in numbers:\n",
    "    if number % 2 == 1:\n",
    "        result.append(number)\n",
    "\n",
    "print(result)"
   ]
  },
  {
   "cell_type": "code",
   "execution_count": null,
   "id": "5e8f955c-f3bb-447a-8bb7-269b3b1d6adb",
   "metadata": {},
   "outputs": [],
   "source": [
    "#데이터가 여러 개 들어있는 경우 이름 지을 때 복수형으로"
   ]
  },
  {
   "cell_type": "code",
   "execution_count": null,
   "id": "dccb8637-7fc1-4c54-a395-2ac61b3f50b7",
   "metadata": {},
   "outputs": [],
   "source": []
  },
  {
   "cell_type": "code",
   "execution_count": null,
   "id": "7681d46a-cdaa-4fe4-be0b-5bb7908ce4be",
   "metadata": {},
   "outputs": [],
   "source": [
    "#인덱스\n",
    "\n",
    "menus = ['라면', '김밥', '떡볶이']\n",
    "\n",
    "for menu in menus:\n",
    "    print(menu)\n",
    "#이게 가장 중요. 이것을 메인으로 이해할 것."
   ]
  },
  {
   "cell_type": "code",
   "execution_count": null,
   "id": "7e420f5b-d443-4f8f-b584-f9fd9f5ed675",
   "metadata": {},
   "outputs": [],
   "source": [
    "for i in range(3):\n",
    "    print(menus[i])"
   ]
  },
  {
   "cell_type": "code",
   "execution_count": null,
   "id": "fd4c9cf3-612a-4662-8853-6cc609a43964",
   "metadata": {},
   "outputs": [],
   "source": [
    "menus = ['라면', '김밥', '떡볶이', '돈까스']\n",
    "\n",
    "for menu in menus:\n",
    "    print(menu)"
   ]
  },
  {
   "cell_type": "code",
   "execution_count": null,
   "id": "30d84f37-d348-4282-8296-23796ca38a28",
   "metadata": {},
   "outputs": [],
   "source": [
    "for i in range(3):\n",
    "    print(menus[i])"
   ]
  },
  {
   "cell_type": "code",
   "execution_count": null,
   "id": "28fbaf92-4650-4529-bace-56e439a3b966",
   "metadata": {},
   "outputs": [],
   "source": [
    "for i in range(len(menus)):\n",
    "#menus라는 리스트의 length를 잼 > range만큼 반복을 돌리고 >> 밑에서 출력하는 것 \n",
    "    print(menus[i])"
   ]
  },
  {
   "cell_type": "code",
   "execution_count": null,
   "id": "3b11c9be-5ced-46d6-aa71-6e7991f8d7bd",
   "metadata": {},
   "outputs": [],
   "source": [
    "enumerate(menus)\n",
    "#인덱스번호도 사용하고, 밸류값도 사용할 수 있음 (인덱스와 밸류값을 하나의 집합으로 묶음)\n",
    "#enumerate라는 함수에 sequence 하나를 만들어서 결과값 출력"
   ]
  },
  {
   "cell_type": "code",
   "execution_count": null,
   "id": "69760a99-a982-4838-8455-9df5bad23562",
   "metadata": {},
   "outputs": [],
   "source": [
    "for item in enumerate(menus):\n",
    "    print(item)\n",
    "#결과값이 튜플형태로 출력됨. \n",
    "#앞에는 해당 아이템의 인덱스 번호, 뒤에는 실제 데이터 값"
   ]
  },
  {
   "cell_type": "code",
   "execution_count": null,
   "id": "8230dda1-286d-4d55-8cc8-b59f640125b2",
   "metadata": {},
   "outputs": [],
   "source": [
    "for index, menu in enumerate(menus):\n",
    "    print(index, menu)\n",
    "#바로 위에서 집합으로 튜플(묶음)으로 나오던 것을, 각각 인덱스와 메뉴에 넣어서 표현"
   ]
  },
  {
   "cell_type": "code",
   "execution_count": null,
   "id": "06bf8a23-5462-4e65-9301-4e9008308890",
   "metadata": {},
   "outputs": [],
   "source": [
    "#여기까지 시퀀스형 데이터의 반복처리 "
   ]
  },
  {
   "cell_type": "code",
   "execution_count": null,
   "id": "6cea1613-4dd8-4a40-a6c6-980758b2412b",
   "metadata": {},
   "outputs": [],
   "source": []
  },
  {
   "cell_type": "markdown",
   "id": "affe6973-f1f5-496a-b48c-b1ffdede81fa",
   "metadata": {},
   "source": [
    "#### dictionary 반복\n",
    "\n",
    "1. for key in dict:\n",
    "2. for key in dict.keys():\n",
    "3. for value in dict.values():\n",
    "4. for key, value in dict.items():"
   ]
  },
  {
   "cell_type": "code",
   "execution_count": null,
   "id": "2e1d9e78-bf5b-48c1-9ea4-c62a89ef4886",
   "metadata": {},
   "outputs": [],
   "source": [
    "#1. for key in dict:\n",
    "\n",
    "info = {\n",
    "    'name' : 'hauen',\n",
    "    'location' : 'incheon',\n",
    "    'phone' : '010-4728-8208',\n",
    "}\n",
    "\n",
    "for key in info:\n",
    "    print(key)\n",
    "    print(info[key])\n",
    "\n",
    "\n",
    "blood_type = {\n",
    "    'A': 5,\n",
    "    'B': 4,\n",
    "    'O': 2,\n",
    "    'AB': 3,\n",
    "}\n",
    "\n",
    "print('bloodtype is as below')\n",
    "for key in blood_type:\n",
    "    print(key)"
   ]
  },
  {
   "cell_type": "code",
   "execution_count": null,
   "id": "6c50dab2-b14d-4e46-b4eb-74de72065aad",
   "metadata": {},
   "outputs": [],
   "source": [
    "#2. for key in dict.keys():\n",
    "\n",
    "blood_type = {\n",
    "    'A': 5,\n",
    "    'B': 4,\n",
    "    'O': 2,\n",
    "    'AB': 3,\n",
    "}\n",
    "\n",
    "print('bloodtype is as below')\n",
    "for key in blood_type.keys():\n",
    "    #blood_type.keys() >> ['A', 'B', 'O', 'AB'] 도출\n",
    "    #이 딕셔너리를 가져와서 반복문처리 해달라고 표현하므로 위의 것보다 더 정확한 표현이긴 함\n",
    "    print(key)\n",
    "\n",
    "blood_type.keys()\n",
    "# dict_keys() : 하나의 객체(object)"
   ]
  },
  {
   "cell_type": "code",
   "execution_count": null,
   "id": "9d3791d9-6ce6-476a-bb88-9665e74cdbae",
   "metadata": {},
   "outputs": [],
   "source": [
    "#3. for value in dict.values():\n",
    "\n",
    "blood_type = {\n",
    "    'A': 5,\n",
    "    'B': 4,\n",
    "    'O': 2,\n",
    "    'AB': 3,\n",
    "}\n",
    "\n",
    "#총 몇 명인지 계산 (과정1)\n",
    "for value in blood_type.values():\n",
    "    print(value)\n",
    "\n",
    "#총 몇 명인지 계산 (과정2)\n",
    "\n",
    "result = 0          # for문이 반복되면서 0 + 5 + 4 + 2 + 3이 되는 것\n",
    "# 밑에서 result에 value를 더해서 result를 만들려면 최초의 기준점이 필요. 해당 기준점을 마련하기 위해 result = 0 씀.\n",
    "# for문 내에서는 계속 숫자가 바뀌므로, for 문의 영향을 받지 않는 영역에 나온 값을 잠시 넣어두는 것\n",
    "\n",
    "for value in blood_type.values():\n",
    "    result = result + value \n",
    "    # result += value와 같음\n",
    "print(f'total of {result} people')"
   ]
  },
  {
   "cell_type": "code",
   "execution_count": null,
   "id": "682234c4-fcfc-475a-ab36-c52106c86ec8",
   "metadata": {},
   "outputs": [],
   "source": [
    "#4. for key, value in dict.items():\n",
    "# key와 value가 같이 필요할 때 \n",
    "\n",
    "blood_type = {\n",
    "    'A': 5,\n",
    "    'B': 4,\n",
    "    'O': 2,\n",
    "    'AB': 3,\n",
    "}\n",
    "\n",
    "blood_type.items() # 결과값은 튜플로 묶여서 나타남\n",
    "\n",
    "for key, value in blood_type.items():\n",
    "    print(key)\n",
    "    print(value)\n",
    "    print(key, value)\n",
    "    print(f'bloodtype {key} is total of {value}')"
   ]
  },
  {
   "cell_type": "code",
   "execution_count": null,
   "id": "0ed4fef1-5dc6-42f5-9a5c-f1ca86ec32b2",
   "metadata": {},
   "outputs": [],
   "source": []
  },
  {
   "cell_type": "markdown",
   "id": "6817300c-d579-4b1b-871c-aa2cdc7d1086",
   "metadata": {},
   "source": [
    "#### break\n",
    "반복문을 종료시키는 키워드"
   ]
  },
  {
   "cell_type": "code",
   "execution_count": 5,
   "id": "b4068fee-97e6-46b0-974a-5f7dab806812",
   "metadata": {},
   "outputs": [
    {
     "name": "stdout",
     "output_type": "stream",
     "text": [
      "0\n",
      "1\n",
      "2\n",
      "3\n",
      "4\n",
      "5\n",
      "6\n",
      "7\n",
      "8\n",
      "9\n",
      "10\n",
      "11\n",
      "over 10\n"
     ]
    }
   ],
   "source": [
    "for i in range(100):\n",
    "    print(i)\n",
    "    if i > 10:\n",
    "        print('over 10')\n",
    "        break\n",
    "        # break는 if문 안에 있지만, 자기 자신과 가장 가까운 위쪽 for문과 연결되어 for문을 종료시킴)"
   ]
  },
  {
   "cell_type": "code",
   "execution_count": 13,
   "id": "717ef8d3-492d-466c-a8f6-8e5de1b2c251",
   "metadata": {},
   "outputs": [
    {
     "name": "stdout",
     "output_type": "stream",
     "text": [
      "보리\n",
      "보리\n",
      "보리\n",
      "보리\n",
      "쌀\n",
      "got it\n"
     ]
    }
   ],
   "source": [
    "rice = ['보리', '보리', '보리', '보리', '쌀', '보리', '보리', '보리', ]\n",
    "\n",
    "# 문제) 보리 보리 보리 보리 쌀 잡았다!\n",
    "\n",
    "for i in rice:\n",
    "    print(i)\n",
    "    if i == '쌀':\n",
    "        print('got it')\n",
    "        break"
   ]
  },
  {
   "cell_type": "code",
   "execution_count": 16,
   "id": "bb39f81c-d166-4aca-bc7d-c6d021160c3d",
   "metadata": {},
   "outputs": [
    {
     "name": "stdout",
     "output_type": "stream",
     "text": [
      "보리\n",
      "보리\n",
      "보리\n",
      "보리\n",
      "쌀\n",
      "잡았다\n"
     ]
    }
   ],
   "source": [
    "# 해제) \n",
    "\n",
    "for r in rice:\n",
    "    print(r)\n",
    "    if r == '쌀':\n",
    "        print('잡았다')\n",
    "        break"
   ]
  },
  {
   "cell_type": "code",
   "execution_count": null,
   "id": "d5896af6-f8ea-489c-8564-a65ef3d45791",
   "metadata": {},
   "outputs": [],
   "source": []
  },
  {
   "cell_type": "markdown",
   "id": "dfbd4fe4-20e9-458a-bf70-2be4d3efce61",
   "metadata": {},
   "source": [
    "#### continue\n",
    "break는 반복문 자체를 멈추는 것인데, continue는 이후의 코드를 실행하지 않고 다음 for문을 실행"
   ]
  },
  {
   "cell_type": "code",
   "execution_count": 19,
   "id": "c7888391-3f54-4c7a-b8ab-e32f9cd27b9d",
   "metadata": {},
   "outputs": [
    {
     "name": "stdout",
     "output_type": "stream",
     "text": [
      "0\n",
      "2\n",
      "4\n",
      "6\n",
      "8\n"
     ]
    }
   ],
   "source": [
    "for i in range(10):\n",
    "    if i % 2:\n",
    "        continue\n",
    "    print(i)\n",
    "\n"
   ]
  },
  {
   "cell_type": "code",
   "execution_count": 21,
   "id": "54ecd2de-d1ef-483b-bc5b-9266cea4df30",
   "metadata": {},
   "outputs": [
    {
     "name": "stdout",
     "output_type": "stream",
     "text": [
      "age 10 is adult.\n",
      "age 23 is adult.\n",
      "age 8 is adult.\n",
      "age 30 is adult.\n",
      "age 29 is adult.\n",
      "age 15 is adult.\n"
     ]
    }
   ],
   "source": [
    "age = [10, 23, 8, 30, 29, 15]\n",
    "\n",
    "for a in age:\n",
    "    print(f'age {a} is adult.')\n",
    "    "
   ]
  },
  {
   "cell_type": "code",
   "execution_count": 22,
   "id": "10288749-649f-4d8f-b569-eefdbef0f49d",
   "metadata": {},
   "outputs": [
    {
     "name": "stdout",
     "output_type": "stream",
     "text": [
      "age 23 is adult.\n",
      "age 30 is adult.\n",
      "age 29 is adult.\n"
     ]
    }
   ],
   "source": [
    "age = [10, 23, 8, 30, 29, 15]\n",
    "\n",
    "for a in age:\n",
    "    if a < 20:\n",
    "        continue\n",
    "    print(f'age {a} is adult.')"
   ]
  },
  {
   "cell_type": "code",
   "execution_count": null,
   "id": "14a68faa-a5d4-4f9e-a5b8-6bc97f2ee722",
   "metadata": {},
   "outputs": [],
   "source": []
  },
  {
   "cell_type": "markdown",
   "id": "d021a3ff-8862-4f6e-b7d5-d3a0890ed85b",
   "metadata": {},
   "source": [
    "#### else\n",
    "else문은 끝까지 반복이 진행된 후 실행합니다. (break를 만나지 않은 경우 실행)"
   ]
  },
  {
   "cell_type": "code",
   "execution_count": 24,
   "id": "4206c736-c957-4be2-a9d5-cb6c2ff16bdd",
   "metadata": {},
   "outputs": [
    {
     "name": "stdout",
     "output_type": "stream",
     "text": [
      "0\n",
      "1\n",
      "2\n",
      "3\n",
      "4\n",
      "5\n",
      "6\n",
      "7\n",
      "8\n",
      "9\n"
     ]
    }
   ],
   "source": [
    "for i in range(10):\n",
    "    print(i)\n",
    "    if i > 10:\n",
    "        break"
   ]
  },
  {
   "cell_type": "code",
   "execution_count": 27,
   "id": "5b068416-c792-49b9-8600-ecf6b6c94306",
   "metadata": {},
   "outputs": [
    {
     "name": "stdout",
     "output_type": "stream",
     "text": [
      "0\n",
      "1\n",
      "2\n",
      "3\n",
      "4\n",
      "5\n",
      "6\n",
      "7\n",
      "8\n",
      "9\n",
      "break 못만남\n"
     ]
    }
   ],
   "source": [
    "for i in range(10):\n",
    "    print(i)\n",
    "    if i > 10:\n",
    "        break\n",
    "else: # break를 만나지 않았다면 이라는 의미이므로, 만나지 않았으므로 실행됨.\n",
    "    print('break 못만남')"
   ]
  },
  {
   "cell_type": "code",
   "execution_count": 35,
   "id": "2e245bac-81f6-41ee-a76c-718927cebc24",
   "metadata": {},
   "outputs": [
    {
     "name": "stdout",
     "output_type": "stream",
     "text": [
      "0\n",
      "1\n",
      "2\n",
      "3\n",
      "4\n",
      "5\n",
      "6\n",
      "7\n",
      "8\n",
      "9\n",
      "10\n",
      "11\n"
     ]
    }
   ],
   "source": [
    "for i in range(12):\n",
    "    print(i)\n",
    "    if i > 10:\n",
    "        break\n",
    "else: # break를 만나지 않았다면 이라는 의미이므로, break를 만난 경우 실행되지 않음. \n",
    "    print('break 못만남')"
   ]
  },
  {
   "cell_type": "code",
   "execution_count": 28,
   "id": "77fb9cee-ae68-484e-9e78-fd27ae663fae",
   "metadata": {},
   "outputs": [
    {
     "name": "stdout",
     "output_type": "stream",
     "text": [
      "True\n",
      "False\n"
     ]
    }
   ],
   "source": [
    "numbers = [1, 2, 3, 4, 5]\n",
    "print(1 in numbers)\n",
    "print(99 in numbers)"
   ]
  },
  {
   "cell_type": "code",
   "execution_count": 38,
   "id": "6853206f-a825-4062-8e3c-b4a0551e4709",
   "metadata": {},
   "outputs": [
    {
     "name": "stdout",
     "output_type": "stream",
     "text": [
      "1\n",
      "True\n",
      "2\n",
      "3\n",
      "4\n",
      "5\n",
      "False\n"
     ]
    }
   ],
   "source": [
    "# 예제) numbers를 반복하다가 target이 있으면 True 출력, 없으면 False 출력 \n",
    "for n in numbers:\n",
    "    print(n)\n",
    "    if n == target:\n",
    "        print(True)\n",
    "        \n",
    "else: \n",
    "    print(False)"
   ]
  },
  {
   "cell_type": "code",
   "execution_count": 40,
   "id": "e17e5ac4-fa8e-447c-8e12-b8eca0f51453",
   "metadata": {},
   "outputs": [
    {
     "name": "stdout",
     "output_type": "stream",
     "text": [
      "True\n"
     ]
    }
   ],
   "source": [
    "# 해제 경우1) 타겟이 있을 경우\n",
    "\n",
    "numbers = [1, 2, 3, 4, 5]\n",
    "target = 1\n",
    "\n",
    "for number in numbers:\n",
    "    if number == target:\n",
    "        print('True')\n",
    "        break\n",
    "else:\n",
    "    print(False)"
   ]
  },
  {
   "cell_type": "code",
   "execution_count": 41,
   "id": "cc5d06ee-fa0f-4867-bccd-be1d369e709b",
   "metadata": {},
   "outputs": [
    {
     "name": "stdout",
     "output_type": "stream",
     "text": [
      "False\n"
     ]
    }
   ],
   "source": [
    "# 해제 경우2) 타겟이 없을 경우\n",
    "\n",
    "numbers = [1, 2, 3, 4, 5]\n",
    "target = 10\n",
    "\n",
    "for number in numbers:\n",
    "    if number == target:\n",
    "        print('True')\n",
    "        break\n",
    "else:\n",
    "    print(False)"
   ]
  },
  {
   "cell_type": "code",
   "execution_count": null,
   "id": "d4906cd5-af5b-4090-88de-40ae11ffa1e6",
   "metadata": {},
   "outputs": [],
   "source": []
  },
  {
   "cell_type": "markdown",
   "id": "ea445342-e7b6-4b57-beb0-28b0bd1b41ed",
   "metadata": {},
   "source": [
    "#### Pass"
   ]
  },
  {
   "cell_type": "code",
   "execution_count": null,
   "id": "c7b2521b-f6ff-41f0-ad5b-2e6403151e8c",
   "metadata": {},
   "outputs": [],
   "source": [
    "if True:\n",
    "    pass\n",
    "# if문 쓰고나서 조건문 충족될 때 무슨 코드를 실행할지 정해두지 않은 경우, pass 사용. 공란이면 오류 발생하므로\n",
    "\n",
    "# 예시\n",
    "\n",
    "def logint():\n",
    "    pass\n",
    "\n",
    "def logout():\n",
    "    pass"
   ]
  },
  {
   "cell_type": "code",
   "execution_count": null,
   "id": "939f5871-77af-4f58-8aa2-bf32a8280dd8",
   "metadata": {},
   "outputs": [],
   "source": []
  },
  {
   "cell_type": "markdown",
   "id": "73954c33-06a5-422f-ae6f-2744096fa11b",
   "metadata": {},
   "source": [
    "#### match\n",
    "- if문이랑 비슷. 파이썬 최신 문법으로, 이런 것이 있구나 하고 넘어가면 됨. \n",
    "```python\n",
    "match value:\n",
    "    case 조건:\n",
    "        실행할 코드\n",
    "    case 조건:\n",
    "        실행할 코드\n",
    "    case _:\n",
    "        실행할 코드\n",
    "        "
   ]
  },
  {
   "cell_type": "code",
   "execution_count": 42,
   "id": "feedd7de-0428-42ce-bf61-76c0d7e46963",
   "metadata": {},
   "outputs": [
    {
     "name": "stdout",
     "output_type": "stream",
     "text": [
      "not found\n"
     ]
    }
   ],
   "source": [
    "status = 404\n",
    "match status:\n",
    "    case 400:\n",
    "        print('bad request')\n",
    "    case 404:\n",
    "        print('not found')\n",
    "    case _:\n",
    "        print('something is wrong')"
   ]
  },
  {
   "cell_type": "code",
   "execution_count": null,
   "id": "90dc2bbb-f477-44ff-8c0a-30555a0885b3",
   "metadata": {},
   "outputs": [],
   "source": []
  },
  {
   "cell_type": "code",
   "execution_count": null,
   "id": "460c281b-0841-4585-b183-4a50ad76f39d",
   "metadata": {},
   "outputs": [],
   "source": []
  }
 ],
 "metadata": {
  "kernelspec": {
   "display_name": "Python 3 (ipykernel)",
   "language": "python",
   "name": "python3"
  },
  "language_info": {
   "codemirror_mode": {
    "name": "ipython",
    "version": 3
   },
   "file_extension": ".py",
   "mimetype": "text/x-python",
   "name": "python",
   "nbconvert_exporter": "python",
   "pygments_lexer": "ipython3",
   "version": "3.11.5"
  }
 },
 "nbformat": 4,
 "nbformat_minor": 5
}
