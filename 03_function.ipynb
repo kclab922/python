{
 "cells": [
  {
   "cell_type": "markdown",
   "id": "4a9f784f-75a9-4677-8eb7-d442ed57bbdb",
   "metadata": {},
   "source": [
    "# 함수(function)\n",
    "(뒤에 나올 재귀 부분은 나중에 더 자세히 다시 배울 것이고, 앞에 함수 부분 이해하는 것이 중요!)"
   ]
  },
  {
   "cell_type": "code",
   "execution_count": 2,
   "id": "0677753c-c756-4e53-8704-59c8253f80c8",
   "metadata": {},
   "outputs": [
    {
     "ename": "SyntaxError",
     "evalue": "invalid syntax (232300360.py, line 17)",
     "output_type": "error",
     "traceback": [
      "\u001b[1;36m  Cell \u001b[1;32mIn[2], line 17\u001b[1;36m\u001b[0m\n\u001b[1;33m    사각형의 개수가 계속 늘어난다면?\u001b[0m\n\u001b[1;37m         ^\u001b[0m\n\u001b[1;31mSyntaxError\u001b[0m\u001b[1;31m:\u001b[0m invalid syntax\n"
     ]
    }
   ],
   "source": [
    "height = 10\n",
    "width = 20\n",
    "\n",
    "height2 = 50\n",
    "width2 = 100\n",
    "\n",
    "area = height * width\n",
    "perimeter = (height + width) * 2\n",
    "print(f'직사각형의 면정은 {area}, 둘레는 {perimeter}입니다.')\n",
    "\n",
    "area2 = height2 * width2\n",
    "perimeter = (height2 + width2) * 2\n",
    "print(f'직사각형의 면정은 {area2}, 둘레는 {perimeter2}입니다.')\n",
    "\n",
    "...\n",
    "\n",
    "사각형의 개수가 계속 늘어난다면? \n",
    "위의 함수를 반복해서 쓰기 불편할 것. >> 함수 필요.\n",
    "\n",
    "- dry\n",
    "코드를 한 번 작업을 해놓고 그것을 계속해서 사용 가능하면\n",
    "코드를 반복해서 쓰지 말라는 뜻. "
   ]
  },
  {
   "cell_type": "markdown",
   "id": "509429d4-f658-43d2-bcac-5f6019557779",
   "metadata": {},
   "source": [
    "## 함수의 선언과 호출\n",
    "\n",
    "\n",
    "y=x+1 이라는 함수를 만드는 것이 선언,\n",
    "x에다 1을 넣어서 2를 도출해내는것이 호출\n",
    "\n",
    "- 함수의 선언\n",
    "```python\n",
    "def func_name(parameter1, parameter2):\n",
    "    code1\n",
    "    code2\n",
    "    ...\n",
    "    return value\n",
    "```\n",
    "\n",
    "- 함수의 호출(실행)\n",
    "```python\n",
    "func_name(parameter1, parameter2)\n",
    "```"
   ]
  },
  {
   "cell_type": "code",
   "execution_count": 4,
   "id": "eb2b2f3e-2752-4622-97a7-37ef5ae04269",
   "metadata": {},
   "outputs": [],
   "source": [
    "# 첫줄 예시를 함수로 만들기\n",
    "\n",
    "# 함수의 정의\n",
    "def rectangle(height, width):  # 함수에는 항상 (소괄호) 붙이기\n",
    "    area = height * width\n",
    "    perimeter = (height + width) * 2\n",
    "    print(area, perimeter)"
   ]
  },
  {
   "cell_type": "code",
   "execution_count": 7,
   "id": "42cc4b2b-13e8-4629-852f-c034d69142fe",
   "metadata": {},
   "outputs": [
    {
     "name": "stdout",
     "output_type": "stream",
     "text": [
      "5000 300\n",
      "200 60\n",
      "2700 240\n"
     ]
    }
   ],
   "source": [
    "# 함수의 실행\n",
    "rectangle(100, 50) \n",
    "rectangle(10, 20)\n",
    "rectangle(30, 90)"
   ]
  },
  {
   "cell_type": "markdown",
   "id": "2b0c1629-d1f6-42b5-bd39-e2b222f38538",
   "metadata": {},
   "source": [
    "**단어사용규칙\n",
    "- snake_case\n",
    "    - 이름짓는 규칙 : 단어와 단어 사이에 _(언더바)\n",
    "    - 변수와 함수\n",
    "- PascalCase\n",
    "    - 모든 단어들을 시작할 때마다 대문자로 쓰는 것, 띄어쓰기 안 함\n",
    "    - class 에 사용"
   ]
  },
  {
   "cell_type": "code",
   "execution_count": 11,
   "id": "38b87a6e-dedc-4a26-aa9e-f7eec6ce8782",
   "metadata": {},
   "outputs": [
    {
     "data": {
      "text/plain": [
       "['ArithmeticError',\n",
       " 'AssertionError',\n",
       " 'AttributeError',\n",
       " 'BaseException',\n",
       " 'BaseExceptionGroup',\n",
       " 'BlockingIOError',\n",
       " 'BrokenPipeError',\n",
       " 'BufferError',\n",
       " 'BytesWarning',\n",
       " 'ChildProcessError',\n",
       " 'ConnectionAbortedError',\n",
       " 'ConnectionError',\n",
       " 'ConnectionRefusedError',\n",
       " 'ConnectionResetError',\n",
       " 'DeprecationWarning',\n",
       " 'EOFError',\n",
       " 'Ellipsis',\n",
       " 'EncodingWarning',\n",
       " 'EnvironmentError',\n",
       " 'Exception',\n",
       " 'ExceptionGroup',\n",
       " 'False',\n",
       " 'FileExistsError',\n",
       " 'FileNotFoundError',\n",
       " 'FloatingPointError',\n",
       " 'FutureWarning',\n",
       " 'GeneratorExit',\n",
       " 'IOError',\n",
       " 'ImportError',\n",
       " 'ImportWarning',\n",
       " 'IndentationError',\n",
       " 'IndexError',\n",
       " 'InterruptedError',\n",
       " 'IsADirectoryError',\n",
       " 'KeyError',\n",
       " 'KeyboardInterrupt',\n",
       " 'LookupError',\n",
       " 'MemoryError',\n",
       " 'ModuleNotFoundError',\n",
       " 'NameError',\n",
       " 'None',\n",
       " 'NotADirectoryError',\n",
       " 'NotImplemented',\n",
       " 'NotImplementedError',\n",
       " 'OSError',\n",
       " 'OverflowError',\n",
       " 'PendingDeprecationWarning',\n",
       " 'PermissionError',\n",
       " 'ProcessLookupError',\n",
       " 'RecursionError',\n",
       " 'ReferenceError',\n",
       " 'ResourceWarning',\n",
       " 'RuntimeError',\n",
       " 'RuntimeWarning',\n",
       " 'StopAsyncIteration',\n",
       " 'StopIteration',\n",
       " 'SyntaxError',\n",
       " 'SyntaxWarning',\n",
       " 'SystemError',\n",
       " 'SystemExit',\n",
       " 'TabError',\n",
       " 'TimeoutError',\n",
       " 'True',\n",
       " 'TypeError',\n",
       " 'UnboundLocalError',\n",
       " 'UnicodeDecodeError',\n",
       " 'UnicodeEncodeError',\n",
       " 'UnicodeError',\n",
       " 'UnicodeTranslateError',\n",
       " 'UnicodeWarning',\n",
       " 'UserWarning',\n",
       " 'ValueError',\n",
       " 'Warning',\n",
       " 'WindowsError',\n",
       " 'ZeroDivisionError',\n",
       " '__IPYTHON__',\n",
       " '__build_class__',\n",
       " '__debug__',\n",
       " '__doc__',\n",
       " '__import__',\n",
       " '__loader__',\n",
       " '__name__',\n",
       " '__package__',\n",
       " '__spec__',\n",
       " 'abs',\n",
       " 'aiter',\n",
       " 'all',\n",
       " 'anext',\n",
       " 'any',\n",
       " 'ascii',\n",
       " 'bin',\n",
       " 'bool',\n",
       " 'breakpoint',\n",
       " 'bytearray',\n",
       " 'bytes',\n",
       " 'callable',\n",
       " 'chr',\n",
       " 'classmethod',\n",
       " 'compile',\n",
       " 'complex',\n",
       " 'copyright',\n",
       " 'credits',\n",
       " 'delattr',\n",
       " 'dict',\n",
       " 'dir',\n",
       " 'display',\n",
       " 'divmod',\n",
       " 'enumerate',\n",
       " 'eval',\n",
       " 'exec',\n",
       " 'execfile',\n",
       " 'filter',\n",
       " 'float',\n",
       " 'format',\n",
       " 'frozenset',\n",
       " 'get_ipython',\n",
       " 'getattr',\n",
       " 'globals',\n",
       " 'hasattr',\n",
       " 'hash',\n",
       " 'help',\n",
       " 'hex',\n",
       " 'id',\n",
       " 'input',\n",
       " 'int',\n",
       " 'isinstance',\n",
       " 'issubclass',\n",
       " 'iter',\n",
       " 'len',\n",
       " 'license',\n",
       " 'list',\n",
       " 'locals',\n",
       " 'map',\n",
       " 'max',\n",
       " 'memoryview',\n",
       " 'min',\n",
       " 'next',\n",
       " 'object',\n",
       " 'oct',\n",
       " 'open',\n",
       " 'ord',\n",
       " 'pow',\n",
       " 'print',\n",
       " 'property',\n",
       " 'range',\n",
       " 'repr',\n",
       " 'reversed',\n",
       " 'round',\n",
       " 'runfile',\n",
       " 'set',\n",
       " 'setattr',\n",
       " 'slice',\n",
       " 'sorted',\n",
       " 'staticmethod',\n",
       " 'str',\n",
       " 'sum',\n",
       " 'super',\n",
       " 'tuple',\n",
       " 'type',\n",
       " 'vars',\n",
       " 'zip']"
      ]
     },
     "execution_count": 11,
     "metadata": {},
     "output_type": "execute_result"
    }
   ],
   "source": [
    "# 함수 이름 짓기\n",
    "\n",
    "#1. snake_case, PascalCase 사용\n",
    "\n",
    "#2.이미 파이썬이 만들어놓은 함수이므로, 아래 리스트의 이름으로 함수를 만들지 않도록 유의!\n",
    "dir(__builtins__)"
   ]
  },
  {
   "cell_type": "code",
   "execution_count": 12,
   "id": "871c8001-a225-4fdd-a863-196b731a3392",
   "metadata": {},
   "outputs": [
    {
     "data": {
      "text/plain": [
       "6"
      ]
     },
     "execution_count": 12,
     "metadata": {},
     "output_type": "execute_result"
    }
   ],
   "source": [
    "# 빌트인 함수 예시\n",
    "\n",
    "max(1, 3, 5, 6) # 숫자 데이터들 중 가장 큰 수를 골라줌"
   ]
  },
  {
   "cell_type": "code",
   "execution_count": null,
   "id": "f326516f-b146-4478-b7fc-6da95eae31ec",
   "metadata": {},
   "outputs": [],
   "source": []
  },
  {
   "cell_type": "code",
   "execution_count": 30,
   "id": "4f9e4cc6-9f02-4d62-804c-6490ec70d280",
   "metadata": {},
   "outputs": [
    {
     "name": "stdout",
     "output_type": "stream",
     "text": [
      "num2가 가장 큽니다.\n",
      "num1이 가장 큽니다.\n",
      "둘이 같습니다.\n",
      "둘이 같습니다.\n"
     ]
    }
   ],
   "source": [
    "# max와 똑같은 기능을 하는 함수 만들기\n",
    "# 두 개의 정수를 받아서 큰 수를 출력\n",
    "# input 만드는 과정.. \n",
    "\n",
    "# 나의 답 -- 오답(elif)\n",
    "def my_max(num1, num2):\n",
    "    if num1 > num2:\n",
    "        print('num1이 가장 큽니다.')\n",
    "    if num2 > num1:\n",
    "        print('num2가 가장 큽니다.')\n",
    "    else:\n",
    "        print('둘이 같습니다.')\n",
    "\n",
    "my_max(1,2)\n",
    "my_max(2,1)\n",
    "my_max(2,2)"
   ]
  },
  {
   "cell_type": "code",
   "execution_count": 22,
   "id": "c937462d-6a10-49fd-91e6-0368603c6755",
   "metadata": {},
   "outputs": [],
   "source": [
    "# 해제 \n",
    "def my_max(num1, num2):\n",
    "    if num1 > num2:\n",
    "        print(num1)\n",
    "    elif num1 < num2:\n",
    "        print(num2)\n",
    "    else:\n",
    "        print('둘이 같습니다.')    "
   ]
  },
  {
   "cell_type": "code",
   "execution_count": 35,
   "id": "1555fa96-4677-4d02-8d30-1c9553003fac",
   "metadata": {},
   "outputs": [
    {
     "name": "stdout",
     "output_type": "stream",
     "text": [
      "num2가 가장 큽니다.\n",
      "둘이 같습니다.\n",
      "None\n"
     ]
    }
   ],
   "source": [
    "my_max(1,2)\n",
    "a = my_max(5,5) #위의 함수는 return을 하지 않았으므로, 자동으로 None을 return한 상태 >> 함수값은 None이 되므로 a = None이 된 상황.\n",
    "print(a)"
   ]
  },
  {
   "cell_type": "code",
   "execution_count": null,
   "id": "8955c13c-c255-4830-926f-efc5569f3a51",
   "metadata": {},
   "outputs": [],
   "source": []
  },
  {
   "cell_type": "code",
   "execution_count": null,
   "id": "edbb42fa-bd27-4547-b81d-61d1c55e6cba",
   "metadata": {},
   "outputs": [],
   "source": [
    "# output"
   ]
  },
  {
   "cell_type": "code",
   "execution_count": null,
   "id": "98a8a7d3-3171-4886-b60b-81a804b95009",
   "metadata": {},
   "outputs": [],
   "source": []
  },
  {
   "cell_type": "markdown",
   "id": "f80d0d1a-de5d-4295-b2fe-587873f6beb2",
   "metadata": {},
   "source": [
    "## 함수의 return\n",
    "- 함수가 return을 만나면 해당 값을 반환(return)하고 함수를 종료함.\n",
    "- 만약 return이 없다면 None을 자동으로 반환\n",
    "- return은 오직 하나의 객체만 반환\n",
    "- 따라서, 함수에는 반드시 return이 있어야 함!"
   ]
  },
  {
   "cell_type": "code",
   "execution_count": 33,
   "id": "bcf3a8d3-4825-4352-b9bd-b1a2d37126bc",
   "metadata": {},
   "outputs": [],
   "source": [
    "def my_max2(num1, num2):    \n",
    "    #return 'hello'\n",
    "    \n",
    "    if num1 > num2:\n",
    "        return num1\n",
    "    elif num1 < num2:\n",
    "        return num2\n",
    "    else:\n",
    "        return num1\n",
    "# return: 함수의 결과. 함수의 최종 아웃풋. return을 만나는 순간 함수 종료. 아웃풋이 목적이므로."
   ]
  },
  {
   "cell_type": "code",
   "execution_count": 44,
   "id": "ec77e930-2d54-4f88-bd8b-d2ff28af299b",
   "metadata": {},
   "outputs": [
    {
     "name": "stdout",
     "output_type": "stream",
     "text": [
      "2\n",
      "2\n"
     ]
    }
   ],
   "source": [
    "#(return을 만나면 함수가 어떤 하나의 값으로 치환되므로, 다른 값에 할당 가능.)\n",
    "a = my_max2(1,2) \n",
    "print(a) \n",
    "# print문은 값을 시각화하여 도출해내기 위해 사용. 원래는 print문이 없으면 볼 수 없으나 jupyter note의 기능 때문에 여기서는 보이는 것\n",
    "print(my_max2(1,2)) # 굳이 a로 치환하지 않고 이렇게 해도 됨"
   ]
  },
  {
   "cell_type": "code",
   "execution_count": 36,
   "id": "7c7777d4-14d3-4f2e-8825-1a23d40ae137",
   "metadata": {},
   "outputs": [
    {
     "data": {
      "text/plain": [
       "[2, 3, 4]"
      ]
     },
     "execution_count": 36,
     "metadata": {},
     "output_type": "execute_result"
    }
   ],
   "source": [
    "def my_list_max(list1, list2):\n",
    "    if sum(list1) > sum(list2):\n",
    "        return list1\n",
    "    else:\n",
    "        return list2\n",
    "\n",
    "my_list_max([1, 2, 3], [2, 3, 4])"
   ]
  },
  {
   "cell_type": "code",
   "execution_count": 38,
   "id": "2ff86991-e55d-4797-8b84-ba25fdde4c3d",
   "metadata": {},
   "outputs": [
    {
     "data": {
      "text/plain": [
       "(1, 2)"
      ]
     },
     "execution_count": 38,
     "metadata": {},
     "output_type": "execute_result"
    }
   ],
   "source": [
    "# return은 오직 하나의 객체만 반환하므로, 1,2를 자동으로 tuple로 바꿔서 출력\n",
    "\n",
    "def my_list_max(list1, list2):\n",
    "    \n",
    "    return 1, 2\n",
    "    \n",
    "    if sum(list1) > sum(list2):\n",
    "        return list1\n",
    "    else:\n",
    "        return list2\n",
    "    \n",
    "my_list_max([1, 2, 3], [2, 3, 4])"
   ]
  },
  {
   "cell_type": "code",
   "execution_count": null,
   "id": "533e0e12-b8a2-4df5-a3e3-2fb984664d41",
   "metadata": {},
   "outputs": [],
   "source": []
  },
  {
   "cell_type": "code",
   "execution_count": 45,
   "id": "08474d46-9d84-47a8-a439-d8c33090d450",
   "metadata": {},
   "outputs": [],
   "source": [
    "# 예시 : return을 했으므로 10을 결과값\n",
    "def my_def(x):\n",
    "    return x * 2"
   ]
  },
  {
   "cell_type": "code",
   "execution_count": 46,
   "id": "b336a682-8dbd-4fcd-8f39-1958b7dd7e08",
   "metadata": {},
   "outputs": [
    {
     "data": {
      "text/plain": [
       "10"
      ]
     },
     "execution_count": 46,
     "metadata": {},
     "output_type": "execute_result"
    }
   ],
   "source": [
    "my_def(5)"
   ]
  },
  {
   "cell_type": "code",
   "execution_count": 47,
   "id": "eb8fa730-881d-493c-be7c-239d80cd86c8",
   "metadata": {},
   "outputs": [
    {
     "name": "stdout",
     "output_type": "stream",
     "text": [
      "10\n"
     ]
    }
   ],
   "source": [
    "a = my_def(5)\n",
    "print(a)"
   ]
  },
  {
   "cell_type": "code",
   "execution_count": 48,
   "id": "8a33a57f-b61f-4d7c-8ca1-eaa07582236c",
   "metadata": {},
   "outputs": [],
   "source": [
    "# 예시 : return을 안 했으므로 return이 none으로 나오므로, 이를 프린트했을 때도 none\n",
    "def my_def2(x):\n",
    "    print(x * 2)\n",
    "    # return None : return을 안 했기에 output은 none"
   ]
  },
  {
   "cell_type": "code",
   "execution_count": 50,
   "id": "a251d198-333e-4a7d-ae34-cb531582c913",
   "metadata": {},
   "outputs": [
    {
     "name": "stdout",
     "output_type": "stream",
     "text": [
      "20\n",
      "None\n"
     ]
    }
   ],
   "source": [
    "a = my_def2(10)\n",
    "print(a)"
   ]
  },
  {
   "cell_type": "code",
   "execution_count": null,
   "id": "2feec673-2adf-4950-890b-eb2c2e34933f",
   "metadata": {},
   "outputs": [],
   "source": []
  },
  {
   "cell_type": "markdown",
   "id": "b29ccb1e-1ac6-4349-9bdd-fec6aacf6683",
   "metadata": {},
   "source": [
    "## 함수의 인수 (소괄호 안에 들어가는 parameter)"
   ]
  },
  {
   "cell_type": "markdown",
   "id": "06b7ebed-8de1-4d34-ba2f-b42ecb167dfa",
   "metadata": {},
   "source": [
    "### 위치인수\n",
    "기본적으로 함수는 인수의 위치로 판단합니다. "
   ]
  },
  {
   "cell_type": "code",
   "execution_count": 57,
   "id": "5c788a2d-ab93-46bd-9e69-2e5efcb2af15",
   "metadata": {},
   "outputs": [],
   "source": [
    "def cylinder(r, h):\n",
    "    return 3.14 * r**2 * h"
   ]
  },
  {
   "cell_type": "code",
   "execution_count": 58,
   "id": "465b0128-7d78-4adc-b7db-589718cfaedd",
   "metadata": {},
   "outputs": [
    {
     "name": "stdout",
     "output_type": "stream",
     "text": [
      "1570.0\n",
      "785.0\n"
     ]
    }
   ],
   "source": [
    "print(cylinder(10, 5))\n",
    "# 이때 10은 r 자리에, 5는 h 자리에 순서대로 착착 들어감\n",
    "print(cylinder(5, 10))"
   ]
  },
  {
   "cell_type": "markdown",
   "id": "ed3eb82d-78e9-4f9c-a0ca-c2df980ff620",
   "metadata": {},
   "source": [
    "### 기본값\n",
    "\n",
    "```python\n",
    "def func(p1 = v1):\n",
    "    code ...\n",
    "    return p1"
   ]
  },
  {
   "cell_type": "code",
   "execution_count": 67,
   "id": "b5c74bcd-8786-49ca-aed1-f5d4f29e77ff",
   "metadata": {},
   "outputs": [],
   "source": [
    "# 기본값을 지정하지 않은 경우\n",
    "def greeting(name):\n",
    "    return f'{name}님 안녕하세요'"
   ]
  },
  {
   "cell_type": "code",
   "execution_count": 63,
   "id": "2c9160cf-fe67-4061-ae89-cdf2f470f486",
   "metadata": {},
   "outputs": [
    {
     "data": {
      "text/plain": [
       "'창희님 안녕하세요'"
      ]
     },
     "execution_count": 63,
     "metadata": {},
     "output_type": "execute_result"
    }
   ],
   "source": [
    "greeting('창희')"
   ]
  },
  {
   "cell_type": "code",
   "execution_count": 64,
   "id": "ed2f3917-144c-4599-aa05-2a622240fd85",
   "metadata": {},
   "outputs": [
    {
     "ename": "TypeError",
     "evalue": "greeting() missing 1 required positional argument: 'name'",
     "output_type": "error",
     "traceback": [
      "\u001b[1;31m---------------------------------------------------------------------------\u001b[0m",
      "\u001b[1;31mTypeError\u001b[0m                                 Traceback (most recent call last)",
      "Cell \u001b[1;32mIn[64], line 1\u001b[0m\n\u001b[1;32m----> 1\u001b[0m \u001b[43mgreeting\u001b[49m\u001b[43m(\u001b[49m\u001b[43m)\u001b[49m\n",
      "\u001b[1;31mTypeError\u001b[0m: greeting() missing 1 required positional argument: 'name'"
     ]
    }
   ],
   "source": [
    "greeting()"
   ]
  },
  {
   "cell_type": "code",
   "execution_count": 65,
   "id": "7c2d2b3a-7d99-45dc-a0be-ccc94460a4e0",
   "metadata": {},
   "outputs": [],
   "source": [
    "# 기본값을 지정한 경우\n",
    "def greeting(name='익명'):\n",
    "    return f'{name}님 안녕하세요'"
   ]
  },
  {
   "cell_type": "code",
   "execution_count": 66,
   "id": "fcf109a8-b4e8-46fb-b0e6-7f5353d7ba49",
   "metadata": {},
   "outputs": [
    {
     "data": {
      "text/plain": [
       "'익명님 안녕하세요'"
      ]
     },
     "execution_count": 66,
     "metadata": {},
     "output_type": "execute_result"
    }
   ],
   "source": [
    "greeting()"
   ]
  },
  {
   "cell_type": "code",
   "execution_count": null,
   "id": "e54bb165-bdd5-4f45-9569-423f739a1206",
   "metadata": {},
   "outputs": [],
   "source": []
  },
  {
   "cell_type": "code",
   "execution_count": 70,
   "id": "1267587e-e565-4244-8393-19e79f890697",
   "metadata": {},
   "outputs": [
    {
     "name": "stdout",
     "output_type": "stream",
     "text": [
      "hello world\n",
      "hello???world\n"
     ]
    }
   ],
   "source": [
    "print('hello', 'world')\n",
    "# 이때 띄어쓰기는 자동으로 sep=' '로 처리되어 있었음\n",
    "\n",
    "print('hello', 'world', sep='???')\n",
    "# sep를 지정해주면 그걸 반영해서 나옴."
   ]
  },
  {
   "cell_type": "code",
   "execution_count": null,
   "id": "949066f5-0224-4b37-a3b0-216073b0659a",
   "metadata": {},
   "outputs": [],
   "source": []
  },
  {
   "cell_type": "code",
   "execution_count": 71,
   "id": "cdda719b-88ea-41d8-b82b-8abf55728c59",
   "metadata": {},
   "outputs": [
    {
     "ename": "SyntaxError",
     "evalue": "non-default argument follows default argument (2027944172.py, line 1)",
     "output_type": "error",
     "traceback": [
      "\u001b[1;36m  Cell \u001b[1;32mIn[71], line 1\u001b[1;36m\u001b[0m\n\u001b[1;33m    def greeting(name='익명', age):\u001b[0m\n\u001b[1;37m                            ^\u001b[0m\n\u001b[1;31mSyntaxError\u001b[0m\u001b[1;31m:\u001b[0m non-default argument follows default argument\n"
     ]
    }
   ],
   "source": [
    "# parameter 순서상 기본값인자가 앞에 있고 기본값 없는 인자가 뒤에 있을 경우 >> 첫째 인자를 안 넣고 둘째인자만 넣을 때 꼬임)\n",
    "\n",
    "def greeting(name='익명', age):\n",
    "    return f'{name}님은 {age}살입니다.'"
   ]
  },
  {
   "cell_type": "code",
   "execution_count": 72,
   "id": "3dc05c64-9a28-4010-87a7-a76fc01c510e",
   "metadata": {},
   "outputs": [
    {
     "ename": "TypeError",
     "evalue": "greeting() takes 1 positional argument but 2 were given",
     "output_type": "error",
     "traceback": [
      "\u001b[1;31m---------------------------------------------------------------------------\u001b[0m",
      "\u001b[1;31mTypeError\u001b[0m                                 Traceback (most recent call last)",
      "Cell \u001b[1;32mIn[72], line 1\u001b[0m\n\u001b[1;32m----> 1\u001b[0m \u001b[43mgreeting\u001b[49m\u001b[43m(\u001b[49m\u001b[38;5;124;43m'\u001b[39;49m\u001b[38;5;124;43m홍길동\u001b[39;49m\u001b[38;5;124;43m'\u001b[39;49m\u001b[43m,\u001b[49m\u001b[43m \u001b[49m\u001b[38;5;241;43m50\u001b[39;49m\u001b[43m)\u001b[49m\n\u001b[0;32m      2\u001b[0m greeting(\u001b[38;5;241m50\u001b[39m)\n",
      "\u001b[1;31mTypeError\u001b[0m: greeting() takes 1 positional argument but 2 were given"
     ]
    }
   ],
   "source": [
    "greeting('홍길동', 50)\n",
    "greeting(50)"
   ]
  },
  {
   "cell_type": "code",
   "execution_count": null,
   "id": "947b040a-581d-4f40-a6e9-ef1ba5c3fc64",
   "metadata": {},
   "outputs": [],
   "source": []
  },
  {
   "cell_type": "code",
   "execution_count": 73,
   "id": "ddedf378-374d-4cbd-9824-24aa046d0681",
   "metadata": {},
   "outputs": [],
   "source": [
    "def greeting(age, name='익명'):\n",
    "    return f'{name}님은 {age}살입니다.'"
   ]
  },
  {
   "cell_type": "code",
   "execution_count": 75,
   "id": "fef5a0fb-83b5-4c6f-a5f5-cb264e9584de",
   "metadata": {},
   "outputs": [
    {
     "name": "stdout",
     "output_type": "stream",
     "text": [
      "홍길동님은 50살입니다.\n",
      "익명님은 50살입니다.\n"
     ]
    }
   ],
   "source": [
    "print(greeting(50, '홍길동'))\n",
    "print(greeting(50))"
   ]
  },
  {
   "cell_type": "code",
   "execution_count": null,
   "id": "779ac2e9-223e-4a4a-8d3b-488297a18536",
   "metadata": {},
   "outputs": [],
   "source": []
  },
  {
   "cell_type": "markdown",
   "id": "2bd9ffb4-d01e-4f2f-a995-78bb9f7a2bbf",
   "metadata": {},
   "source": [
    "## 키워드 인자\n",
    "함수를 호출(실행)할 때 내가 원하는 위치에 직접적으로 특정 인자를 전달 가능"
   ]
  },
  {
   "cell_type": "code",
   "execution_count": 76,
   "id": "464c1648-f34c-4994-a0df-384ddcbbf0e2",
   "metadata": {},
   "outputs": [],
   "source": [
    "def greeting(age, name='익명'):\n",
    "    return f'{name}님은 {age}살입니다.'"
   ]
  },
  {
   "cell_type": "code",
   "execution_count": 83,
   "id": "c58835a6-bde2-4303-b26c-d94e42c713a2",
   "metadata": {},
   "outputs": [
    {
     "name": "stdout",
     "output_type": "stream",
     "text": [
      "익명님은 10살입니다.\n",
      "길동님은 20살입니다.\n",
      "30님은 길동살입니다.\n",
      "길동님은 30살입니다.\n"
     ]
    }
   ],
   "source": [
    "print(greeting(10))\n",
    "print(greeting(20, '길동'))\n",
    "print(greeting('길동', 30))\n",
    "print(greeting(name='길동', age=30)) # 순서대로 넣지 않고, 강제로 데이터를 지정"
   ]
  },
  {
   "cell_type": "markdown",
   "id": "d6fff09e-37c4-4250-b034-444ef76ca862",
   "metadata": {},
   "source": [
    "### (1) 가변 인자 리스트\n",
    "* : 개수가 정해지지 않은 데이터를 받을 때 사용. 데이터의 개수와 관계없이 결과값 전체를 튜플로 묶어줌\n",
    "\n",
    "```python\n",
    "def func(*parms):\n",
    "    code\n",
    "    ...\n"
   ]
  },
  {
   "cell_type": "code",
   "execution_count": 86,
   "id": "d99e81d9-9699-4835-a424-bd7253b4ce9c",
   "metadata": {},
   "outputs": [],
   "source": [
    "def my_print(*words):\n",
    "    print(words)\n",
    "    print(type(words))"
   ]
  },
  {
   "cell_type": "code",
   "execution_count": 87,
   "id": "a069a073-55cd-41e8-9778-8cdbd41b4f23",
   "metadata": {},
   "outputs": [
    {
     "name": "stdout",
     "output_type": "stream",
     "text": [
      "('a', 'b', 'c')\n",
      "<class 'tuple'>\n"
     ]
    }
   ],
   "source": [
    "my_print('a', 'b', 'c')"
   ]
  },
  {
   "cell_type": "code",
   "execution_count": 89,
   "id": "08aed1d7-e4f1-478d-b40b-f0ba6b472200",
   "metadata": {},
   "outputs": [
    {
     "name": "stdout",
     "output_type": "stream",
     "text": [
      "a공간b공간c\n",
      "a b c 공간\n"
     ]
    }
   ],
   "source": [
    "# 프린트문에서 구분선을 넣고 싶다면 sep= 라고 키워드 인자를 지정해줘야 함)\n",
    "print ('a', 'b', 'c', sep='공간')\n",
    "print ('a', 'b', 'c', '공간')"
   ]
  },
  {
   "cell_type": "code",
   "execution_count": null,
   "id": "602e728c-f31b-48b4-ba9e-bae06d0e4c65",
   "metadata": {},
   "outputs": [],
   "source": [
    "# 가변인자를 활용한 max함수 만들기"
   ]
  },
  {
   "cell_type": "code",
   "execution_count": 90,
   "id": "9c64dc5b-c2da-4e55-86b1-ff08e5fe88dc",
   "metadata": {},
   "outputs": [
    {
     "data": {
      "text/plain": [
       "7"
      ]
     },
     "execution_count": 90,
     "metadata": {},
     "output_type": "execute_result"
    }
   ],
   "source": [
    "max(1, 2, 3, 4, 5, 6, 7)"
   ]
  },
  {
   "cell_type": "code",
   "execution_count": 101,
   "id": "d3a2d960-5e7b-42c9-9f01-4c538ff60570",
   "metadata": {},
   "outputs": [
    {
     "name": "stdout",
     "output_type": "stream",
     "text": [
      "3\n",
      "0\n"
     ]
    }
   ],
   "source": [
    "#아까 풀었던 문제 중 '여러 개의 숫자를 받아 그중 가장 큰 수를 리턴하는 함수' 만들 때, \n",
    "result = 0\n",
    "을 미리 설정하는 방식을 떠올리지 못했습니다!\n",
    "문제를 계속 풀다보면 이런 사고방식에 익숙해질까요..?\n",
    "\n",
    "# 문제) 여러 개의 숫자를 받아 그중 가장 큰 수를 리턴하는 함수\n",
    "\n",
    "#문제 풀 때 \n",
    "# 해제 1 (양수만 비교 가능)\n",
    "def my_max(*numbers):\n",
    "    result = 0\n",
    "    \n",
    "    for number in numbers:\n",
    "        if result < number:\n",
    "            result = number\n",
    "    return result\n",
    "        \n",
    "print(my_max(1, 2, 3))\n",
    "print(my_max(-1, -2, -3))"
   ]
  },
  {
   "cell_type": "code",
   "execution_count": 103,
   "id": "6affb07c-9d9e-4c5e-aef5-4bca5ff39fae",
   "metadata": {},
   "outputs": [
    {
     "name": "stdout",
     "output_type": "stream",
     "text": [
      "3\n",
      "-1\n"
     ]
    }
   ],
   "source": [
    "# 해제 2 (양수와 음수 모두 비교 가능)\n",
    "def my_max(*numbers):\n",
    "    result = numbers[0]\n",
    "    \n",
    "    for number in numbers:\n",
    "        if result < number:\n",
    "            result = number\n",
    "    return result\n",
    "        \n",
    "print(my_max(1, 2, 3))\n",
    "print(my_max(-1, -2, -3))"
   ]
  },
  {
   "cell_type": "code",
   "execution_count": null,
   "id": "fad65c1b-27d3-4f21-8f76-53a48873d1a6",
   "metadata": {},
   "outputs": [],
   "source": []
  },
  {
   "cell_type": "markdown",
   "id": "8c286ae0-366b-4481-92cd-25da718c35de",
   "metadata": {},
   "source": [
    "### (2) 정의되지 않은 키워드 인자 처리하기\n",
    "```python\n",
    "def func(**kwargs):\n",
    "    code\n",
    "    ...\n",
    "```\n",
    "- 결과값을 dictionary로 만듦."
   ]
  },
  {
   "cell_type": "code",
   "execution_count": 116,
   "id": "b9d8af5a-3950-4011-b32d-4b3715c68e6d",
   "metadata": {},
   "outputs": [
    {
     "name": "stdout",
     "output_type": "stream",
     "text": [
      "{'name': 'hong', 'age': 10}\n"
     ]
    }
   ],
   "source": [
    "# dictionary 직접 만들기\n",
    "info = {\n",
    "    'name': 'hong',\n",
    "    'age': 10,\n",
    "}\n",
    "print(info)"
   ]
  },
  {
   "cell_type": "code",
   "execution_count": 106,
   "id": "82a88e9f-83f6-41d3-8679-4fd18247c0b7",
   "metadata": {},
   "outputs": [
    {
     "name": "stdout",
     "output_type": "stream",
     "text": [
      "{'name': 'hong', 'age': 20}\n"
     ]
    }
   ],
   "source": [
    "# dictionary 만드는 함수 활용하기\n",
    "info = dict(name='hong', age=20)\n",
    "print(info)"
   ]
  },
  {
   "cell_type": "code",
   "execution_count": 109,
   "id": "54675c56-63ea-4a80-b158-eeef0dd0f486",
   "metadata": {},
   "outputs": [],
   "source": [
    "# 예시\n",
    "def fake_dict(**kwargs):\n",
    "    print(kwargs)"
   ]
  },
  {
   "cell_type": "code",
   "execution_count": 110,
   "id": "55b5ed1c-95a9-47e6-aab1-095f6ab00c95",
   "metadata": {},
   "outputs": [
    {
     "name": "stdout",
     "output_type": "stream",
     "text": [
      "{'a': 10, 'b': 20}\n"
     ]
    }
   ],
   "source": [
    "fake_dict(a=10, b=20)"
   ]
  },
  {
   "cell_type": "code",
   "execution_count": null,
   "id": "2ec8ba2d-87da-4c7a-8897-f71de2a1037e",
   "metadata": {},
   "outputs": [],
   "source": []
  },
  {
   "cell_type": "code",
   "execution_count": 113,
   "id": "716d802b-f071-4d39-9ef5-3712721d1ffd",
   "metadata": {},
   "outputs": [],
   "source": [
    "# 예시\n",
    "def fake_dict(**kwargs):\n",
    "    for key, value in kwargs.items():\n",
    "        print(f'{key}는 {value}입니다.')"
   ]
  },
  {
   "cell_type": "code",
   "execution_count": 115,
   "id": "e25afadd-427c-4136-a721-3a4284fbeeea",
   "metadata": {},
   "outputs": [
    {
     "name": "stdout",
     "output_type": "stream",
     "text": [
      "a는 10입니다.\n",
      "b는 20입니다.\n",
      "korean는 안녕입니다.\n",
      "english는 hello입니다.\n"
     ]
    }
   ],
   "source": [
    "fake_dict(a=10, b=20)\n",
    "fake_dict(korean='안녕', english='hello')"
   ]
  },
  {
   "cell_type": "markdown",
   "id": "175eff2c-fa8f-436f-a570-bf7d0a1f160b",
   "metadata": {},
   "source": [
    "### unpacking (dictionary를 인자로 넣기)"
   ]
  },
  {
   "cell_type": "code",
   "execution_count": 118,
   "id": "4fbe9417-7120-49a2-ac08-c32cbbd8fd5b",
   "metadata": {},
   "outputs": [],
   "source": [
    "def sign_up(id, pw, pw_confirmation):\n",
    "    if pw == pw_confirmation:\n",
    "        print(f'{id}님 회원가입이 완료되었습니다.')\n",
    "    else:\n",
    "        print('비밀번호가 일치하지 않습니다.')"
   ]
  },
  {
   "cell_type": "code",
   "execution_count": 122,
   "id": "d69d8d87-dee4-497f-bf29-3197a26a6dec",
   "metadata": {},
   "outputs": [
    {
     "name": "stdout",
     "output_type": "stream",
     "text": [
      "change님 회원가입이 완료되었습니다.\n",
      "비밀번호가 일치하지 않습니다.\n"
     ]
    }
   ],
   "source": [
    "sign_up('change', '1234', '1234')\n",
    "sign_up('change', '1234', '4321')"
   ]
  },
  {
   "cell_type": "code",
   "execution_count": 143,
   "id": "c2b79c35-1d12-40e4-a450-4766bf32d016",
   "metadata": {},
   "outputs": [
    {
     "name": "stdout",
     "output_type": "stream",
     "text": [
      "change님 회원가입이 완료되었습니다.\n"
     ]
    }
   ],
   "source": [
    "account = {\n",
    "    'id': 'change',\n",
    "    'pw': '1234',\n",
    "    'pw_confirmation': '1234',\n",
    "}\n",
    "\n",
    "sign_up(**account)\n",
    "# 여기에 dictionary로 묶여 있는 데이터를 풀어서 맨 위 함수의 인자들에 각각 적용하는 것. (dictionary의 key가 함수의 인자와 같아야 하는 것)"
   ]
  },
  {
   "cell_type": "code",
   "execution_count": null,
   "id": "9d06607a-245b-44d9-a3b2-05715e483f58",
   "metadata": {},
   "outputs": [],
   "source": []
  },
  {
   "cell_type": "markdown",
   "id": "84c70a85-1391-4096-857f-34b3ac14845f",
   "metadata": {},
   "source": [
    "### lambda 표현식\n",
    "\n",
    "```python\n",
    "lambda parameter: expression\n",
    "```"
   ]
  },
  {
   "cell_type": "code",
   "execution_count": 130,
   "id": "53fde94f-34c5-4abf-ac65-942bfc2a1a00",
   "metadata": {},
   "outputs": [
    {
     "data": {
      "text/plain": [
       "3"
      ]
     },
     "execution_count": 130,
     "metadata": {},
     "output_type": "execute_result"
    }
   ],
   "source": [
    "# lambda는 일종의 임시함수\n",
    "# 만들어지는 동시에 선언됨\n",
    "# 인자에 함수를 넣어야 할 때 활용 (한 줄로 쓸 수 있으므로)\n",
    "\n",
    "# 함수의 정의\n",
    "lambda x, y: x + y\n",
    "            #이 자리에 리턴이 생략되었다고 보면 됨\n",
    "\n",
    "# 정의+출력\n",
    "(lambda x, y: x + y)(1, 2)"
   ]
  },
  {
   "cell_type": "code",
   "execution_count": 133,
   "id": "cb983227-2ae0-421e-b1f9-a76aa3ddfb05",
   "metadata": {},
   "outputs": [
    {
     "data": {
      "text/plain": [
       "3"
      ]
     },
     "execution_count": 133,
     "metadata": {},
     "output_type": "execute_result"
    }
   ],
   "source": [
    "def my_sum(x, y):\n",
    "    return x + y\n",
    "    \n",
    "my_sum(1,2)"
   ]
  },
  {
   "cell_type": "code",
   "execution_count": null,
   "id": "1bc8b635-1aaf-40f7-9a53-ab42128c272d",
   "metadata": {},
   "outputs": [],
   "source": []
  },
  {
   "cell_type": "markdown",
   "id": "d61b78cc-dc90-4573-8e61-f0f921cf30ff",
   "metadata": {},
   "source": [
    "### 타입힌트"
   ]
  },
  {
   "cell_type": "code",
   "execution_count": 134,
   "id": "94a007d8-e322-4641-a97d-dc4b1ee6a2d6",
   "metadata": {},
   "outputs": [],
   "source": [
    "def my_sum(a, b):\n",
    "    return a + b"
   ]
  },
  {
   "cell_type": "code",
   "execution_count": 135,
   "id": "ff8247af-3134-4889-8458-049f8e926879",
   "metadata": {},
   "outputs": [
    {
     "data": {
      "text/plain": [
       "3"
      ]
     },
     "execution_count": 135,
     "metadata": {},
     "output_type": "execute_result"
    }
   ],
   "source": [
    "my_sum(1, 2)"
   ]
  },
  {
   "cell_type": "code",
   "execution_count": 136,
   "id": "e40abe82-3476-4e14-8ec1-27584a2a19b9",
   "metadata": {},
   "outputs": [
    {
     "ename": "TypeError",
     "evalue": "can only concatenate str (not \"int\") to str",
     "output_type": "error",
     "traceback": [
      "\u001b[1;31m---------------------------------------------------------------------------\u001b[0m",
      "\u001b[1;31mTypeError\u001b[0m                                 Traceback (most recent call last)",
      "Cell \u001b[1;32mIn[136], line 1\u001b[0m\n\u001b[1;32m----> 1\u001b[0m \u001b[43mmy_sum\u001b[49m\u001b[43m(\u001b[49m\u001b[38;5;124;43m'\u001b[39;49m\u001b[38;5;124;43m1\u001b[39;49m\u001b[38;5;124;43m'\u001b[39;49m\u001b[43m,\u001b[49m\u001b[43m \u001b[49m\u001b[38;5;241;43m2\u001b[39;49m\u001b[43m)\u001b[49m\n",
      "Cell \u001b[1;32mIn[134], line 2\u001b[0m, in \u001b[0;36mmy_sum\u001b[1;34m(a, b)\u001b[0m\n\u001b[0;32m      1\u001b[0m \u001b[38;5;28;01mdef\u001b[39;00m \u001b[38;5;21mmy_sum\u001b[39m(a, b):\n\u001b[1;32m----> 2\u001b[0m     \u001b[38;5;28;01mreturn\u001b[39;00m \u001b[43ma\u001b[49m\u001b[43m \u001b[49m\u001b[38;5;241;43m+\u001b[39;49m\u001b[43m \u001b[49m\u001b[43mb\u001b[49m\n",
      "\u001b[1;31mTypeError\u001b[0m: can only concatenate str (not \"int\") to str"
     ]
    }
   ],
   "source": [
    "my_sum('1', 2)\n",
    "# 글자 1과 숫자 2는 타입이 달라서 더할 수 없으므로 에러 발생"
   ]
  },
  {
   "cell_type": "code",
   "execution_count": 142,
   "id": "d63b7a36-7c00-4748-ac14-42998a6c835d",
   "metadata": {},
   "outputs": [],
   "source": [
    "# int가 들어갈 자리에 str를 잘못 입력시 오류는 똑같이 나지만, 다만 읽는 사람들에게 친절하게 힌트를 제공하는 차원\n",
    "def my_sum(a: int, b: int) -> int:\n",
    "    return a + b"
   ]
  },
  {
   "cell_type": "code",
   "execution_count": 139,
   "id": "21ad4137-5ea1-4592-80b2-ee4e4fe9ae24",
   "metadata": {},
   "outputs": [
    {
     "data": {
      "text/plain": [
       "3"
      ]
     },
     "execution_count": 139,
     "metadata": {},
     "output_type": "execute_result"
    }
   ],
   "source": [
    "my_sum(1, 2)"
   ]
  },
  {
   "cell_type": "code",
   "execution_count": 140,
   "id": "98a51278-aaff-44c6-a978-6cdc33668a94",
   "metadata": {},
   "outputs": [
    {
     "ename": "TypeError",
     "evalue": "can only concatenate str (not \"int\") to str",
     "output_type": "error",
     "traceback": [
      "\u001b[1;31m---------------------------------------------------------------------------\u001b[0m",
      "\u001b[1;31mTypeError\u001b[0m                                 Traceback (most recent call last)",
      "Cell \u001b[1;32mIn[140], line 1\u001b[0m\n\u001b[1;32m----> 1\u001b[0m \u001b[43mmy_sum\u001b[49m\u001b[43m(\u001b[49m\u001b[38;5;124;43m'\u001b[39;49m\u001b[38;5;124;43m1\u001b[39;49m\u001b[38;5;124;43m'\u001b[39;49m\u001b[43m,\u001b[49m\u001b[43m \u001b[49m\u001b[38;5;241;43m2\u001b[39;49m\u001b[43m)\u001b[49m\n",
      "Cell \u001b[1;32mIn[138], line 2\u001b[0m, in \u001b[0;36mmy_sum\u001b[1;34m(a, b)\u001b[0m\n\u001b[0;32m      1\u001b[0m \u001b[38;5;28;01mdef\u001b[39;00m \u001b[38;5;21mmy_sum\u001b[39m(a: \u001b[38;5;28mint\u001b[39m, b: \u001b[38;5;28mint\u001b[39m) \u001b[38;5;241m-\u001b[39m\u001b[38;5;241m>\u001b[39m \u001b[38;5;28mint\u001b[39m:\n\u001b[1;32m----> 2\u001b[0m     \u001b[38;5;28;01mreturn\u001b[39;00m \u001b[43ma\u001b[49m\u001b[43m \u001b[49m\u001b[38;5;241;43m+\u001b[39;49m\u001b[43m \u001b[49m\u001b[43mb\u001b[49m\n",
      "\u001b[1;31mTypeError\u001b[0m: can only concatenate str (not \"int\") to str"
     ]
    }
   ],
   "source": [
    "my_sum('1', 2)"
   ]
  },
  {
   "cell_type": "code",
   "execution_count": null,
   "id": "2e562cbd-fbec-4d7c-ad86-9414dd234d5b",
   "metadata": {},
   "outputs": [],
   "source": []
  },
  {
   "cell_type": "markdown",
   "id": "dcfbb2e4-f726-4438-a6d4-e78a58fad4d5",
   "metadata": {},
   "source": [
    "### 이름공간(scope)\n",
    "python에서 사용되는 이름들은 이름공간(namespace)에 저장되어 있습니다. \n",
    "\n",
    "**LEGB 순서대로\n",
    "- Local scope: 정의된 함수 내부 (제일 가까운 곳에 저장된 것)\n",
    "- Enclosed scope: 상위 함수\n",
    "- Global scope: 함수 밖의 변수 혹은 import된 모듈\n",
    "- Built-in scope: python이 기본적으로 가지고 있는 함수 혹은 변수"
   ]
  },
  {
   "cell_type": "code",
   "execution_count": 3,
   "id": "820d5544-5471-43ab-80fb-8e3b58b5ccf6",
   "metadata": {},
   "outputs": [],
   "source": [
    "str = '123'"
   ]
  },
  {
   "cell_type": "code",
   "execution_count": 4,
   "id": "d904a5ed-f63c-42b9-9909-18eb0ac31ff1",
   "metadata": {},
   "outputs": [
    {
     "name": "stdout",
     "output_type": "stream",
     "text": [
      "123\n"
     ]
    }
   ],
   "source": [
    "print(str)"
   ]
  },
  {
   "cell_type": "code",
   "execution_count": 5,
   "id": "fb25df0b-2601-441b-9af2-f4923673234e",
   "metadata": {},
   "outputs": [
    {
     "ename": "TypeError",
     "evalue": "'str' object is not callable",
     "output_type": "error",
     "traceback": [
      "\u001b[1;31m---------------------------------------------------------------------------\u001b[0m",
      "\u001b[1;31mTypeError\u001b[0m                                 Traceback (most recent call last)",
      "Cell \u001b[1;32mIn[5], line 1\u001b[0m\n\u001b[1;32m----> 1\u001b[0m \u001b[38;5;28;43mstr\u001b[39;49m\u001b[43m(\u001b[49m\u001b[38;5;241;43m123\u001b[39;49m\u001b[43m)\u001b[49m\n",
      "\u001b[1;31mTypeError\u001b[0m: 'str' object is not callable"
     ]
    }
   ],
   "source": [
    "str(123)"
   ]
  },
  {
   "cell_type": "code",
   "execution_count": null,
   "id": "9775a9e3-b346-4d5a-aac4-346129fe9d70",
   "metadata": {},
   "outputs": [],
   "source": [
    "# 빌트인함수에 str이 있는데, 변수로 str을 지정해버려서 함수인 str을 소환해내지 못하고 오류가 발생하는 상황.\n",
    "# str을 변수로 정해버려서 그 뒤에서는 str을 변수로만 사용 가능하고 함수로믄 못 씀"
   ]
  },
  {
   "cell_type": "code",
   "execution_count": 6,
   "id": "e16be266-932e-4f53-8e88-acf60f2cb6fa",
   "metadata": {},
   "outputs": [],
   "source": [
    "del str\n",
    "# 위에서 만든 str이라는 이름을 가진 공간, 상자를 지워버림. >> 원래 python이 갖고 있던 str이라는 함수에 접근 가능"
   ]
  },
  {
   "cell_type": "code",
   "execution_count": null,
   "id": "784e153e-da4e-4860-b38c-cbfd31e087f6",
   "metadata": {},
   "outputs": [],
   "source": []
  },
  {
   "cell_type": "code",
   "execution_count": 8,
   "id": "6b9eda14-5aa4-4b47-ab9c-33922a0ec36d",
   "metadata": {},
   "outputs": [
    {
     "name": "stdout",
     "output_type": "stream",
     "text": [
      "5\n",
      "1\n"
     ]
    }
   ],
   "source": [
    "a = 1\n",
    "\n",
    "def local_scope(a):\n",
    "    # a = 5\n",
    "    print(a)\n",
    "\n",
    "local_scope(5) # a=5와 a=1이 중첩되나, 더 가까이 있는 a=5가 출력\n",
    "print(a) # a는 함수 밖에 있으므로 1이 출력"
   ]
  },
  {
   "cell_type": "code",
   "execution_count": 11,
   "id": "6baee6ce-4c2f-400b-907e-e7e1a99b9c92",
   "metadata": {},
   "outputs": [
    {
     "name": "stdout",
     "output_type": "stream",
     "text": [
      "10\n"
     ]
    }
   ],
   "source": [
    "# 밖에 있는 값에 접근하는 법 : global scope 사용\n",
    "a = 10\n",
    "\n",
    "def global_scope():\n",
    "    global a # 함수 밖에 있는 a를 가져올거야\n",
    "    print(a)    \n",
    "    \n",
    "global_scope()"
   ]
  },
  {
   "cell_type": "code",
   "execution_count": null,
   "id": "70675deb-4804-4097-a03c-7eada44bc694",
   "metadata": {},
   "outputs": [],
   "source": []
  },
  {
   "cell_type": "markdown",
   "id": "a3d41a8a-d493-4bf2-83ab-d643e7c0686f",
   "metadata": {},
   "source": [
    "### 재귀(recursive)\n",
    "재귀함수는 함수 내부에서 자기 자신을 호출하는 함수를 의미한다. \n",
    "(재귀 부분은 나중에 더 자세히 다시 배울 것이고, 앞에 함수 부분 이해하는 것이 중요!)"
   ]
  },
  {
   "cell_type": "code",
   "execution_count": 12,
   "id": "4337360c-f5ed-4cbb-8131-5e2b8fad505e",
   "metadata": {},
   "outputs": [
    {
     "data": {
      "text/plain": [
       "120"
      ]
     },
     "execution_count": 12,
     "metadata": {},
     "output_type": "execute_result"
    }
   ],
   "source": [
    "# 팩토리얼1 (n! = n * n-1 * n-2 * ... * 1)\n",
    "def fact(n):\n",
    "    result = 1\n",
    "\n",
    "    while n > 1:\n",
    "        result = result * n \n",
    "        # (=) result *+ n\n",
    "\n",
    "        n = n - 1\n",
    "        # (=) n -= 1\n",
    "\n",
    "    return result\n",
    "\n",
    "print(fact(5))"
   ]
  },
  {
   "cell_type": "markdown",
   "id": "5914f4b6-5889-4851-bb3a-a8295f08a0f7",
   "metadata": {},
   "source": [
    "#### 재귀\n",
    "n! = 1 * 2 * ... * n-1 * n\n",
    "\n",
    "\n",
    "- 1! = 1\n",
    "- 2! = 1 * 2 = 1! * 2\n",
    "- 3! = 1 * 2 * 3 = 2! * 3\n",
    "- 4! = 1 * 2 * 3 * 3 = 3! * 4\n",
    "- n! = (n-1)! * n"
   ]
  },
  {
   "cell_type": "code",
   "execution_count": 14,
   "id": "cc337ad7-0d24-41c4-aa4f-cd14552ff3d6",
   "metadata": {},
   "outputs": [
    {
     "name": "stdout",
     "output_type": "stream",
     "text": [
      "120\n"
     ]
    }
   ],
   "source": [
    "# 팩토리얼2 (재귀 함수)\n",
    "def factorial(n):\n",
    "    if n <= 1:\n",
    "        return 1\n",
    "    else:\n",
    "        return factorial(n-1) * n\n",
    "\n",
    "print(factorial(5))"
   ]
  },
  {
   "cell_type": "code",
   "execution_count": null,
   "id": "6c848778-d909-4c30-ac26-603c8fdaca87",
   "metadata": {},
   "outputs": [],
   "source": []
  },
  {
   "cell_type": "markdown",
   "id": "7dcf5a74-d413-4c83-b52d-3fb375c31476",
   "metadata": {},
   "source": [
    "#### 피보나치 수열\n",
    "(앞 데이터와 다음 데이터를 합해서 그 다음 수열을 만듦)\n",
    "- F(0) = F(1) = 1\n",
    "- F(N) = F(N-1) + F(N-2)"
   ]
  },
  {
   "cell_type": "code",
   "execution_count": 20,
   "id": "3e8736fd-b031-4298-bcc9-f12cc90e38a6",
   "metadata": {},
   "outputs": [
    {
     "name": "stdout",
     "output_type": "stream",
     "text": [
      "89\n"
     ]
    }
   ],
   "source": [
    "# 예시1. 반복문(loop) 활용\n",
    "\n",
    "def fib_loop(n):\n",
    "    result = [1, 1]\n",
    "\n",
    "    for i in range(1, n):\n",
    "        end1 = result[-1]\n",
    "        end2 = result[-2]\n",
    "\n",
    "        fib_num = end1 + end2\n",
    "\n",
    "        result.append(fib_num)\n",
    "        \n",
    "    return result [-1]\n",
    "    \n",
    "print(fib_loop(10))"
   ]
  },
  {
   "cell_type": "code",
   "execution_count": null,
   "id": "b4bc5e76-ef0b-4f3d-805a-7e0cc00191da",
   "metadata": {},
   "outputs": [],
   "source": []
  },
  {
   "cell_type": "code",
   "execution_count": 19,
   "id": "f891a97e-0646-4260-b73c-1b1c80291278",
   "metadata": {},
   "outputs": [
    {
     "name": "stdout",
     "output_type": "stream",
     "text": [
      "89\n"
     ]
    }
   ],
   "source": [
    "# 예시2. 재귀 방식\n",
    "\n",
    "def fib_rec(n):\n",
    "    if n == 0 or n == 1:\n",
    "        return 1\n",
    "    else:\n",
    "        return fib_rec(n-1) + fib_rec(n-2)\n",
    "\n",
    "print(fib_rec(10))"
   ]
  },
  {
   "cell_type": "code",
   "execution_count": null,
   "id": "9fda20b7-f722-46e8-bc41-e17a634d9830",
   "metadata": {},
   "outputs": [],
   "source": []
  },
  {
   "cell_type": "code",
   "execution_count": null,
   "id": "c916d9a0-cf15-48f2-862f-a404b1982009",
   "metadata": {},
   "outputs": [],
   "source": []
  },
  {
   "cell_type": "code",
   "execution_count": null,
   "id": "07927290-179f-4e2b-862c-18ba758a75e9",
   "metadata": {},
   "outputs": [],
   "source": []
  },
  {
   "cell_type": "code",
   "execution_count": null,
   "id": "6ec770a8-1674-4ab5-b9cf-c6d137a1b812",
   "metadata": {},
   "outputs": [],
   "source": []
  },
  {
   "cell_type": "code",
   "execution_count": null,
   "id": "3a02db69-ff27-4e66-b8ec-7d5e8d5e4f86",
   "metadata": {},
   "outputs": [],
   "source": []
  },
  {
   "cell_type": "code",
   "execution_count": null,
   "id": "d04e1ca9-1ac7-4c22-bdac-6cd67cf3eb03",
   "metadata": {},
   "outputs": [],
   "source": []
  },
  {
   "cell_type": "code",
   "execution_count": null,
   "id": "651b0102-179f-4640-af52-f02b8659334b",
   "metadata": {},
   "outputs": [],
   "source": []
  },
  {
   "cell_type": "code",
   "execution_count": null,
   "id": "2200f6ef-16c4-4eed-88b9-fd9987b59a5b",
   "metadata": {},
   "outputs": [],
   "source": []
  },
  {
   "cell_type": "code",
   "execution_count": null,
   "id": "9c59d2e6-9898-402c-a516-d9c635214a9d",
   "metadata": {},
   "outputs": [],
   "source": []
  },
  {
   "cell_type": "code",
   "execution_count": null,
   "id": "cadb0dd3-e22b-43c5-9cee-75334a635da3",
   "metadata": {},
   "outputs": [],
   "source": []
  },
  {
   "cell_type": "code",
   "execution_count": null,
   "id": "cb241bb6-032d-4c90-b67e-5c394abab00c",
   "metadata": {},
   "outputs": [],
   "source": []
  },
  {
   "cell_type": "code",
   "execution_count": null,
   "id": "dc481775-70d5-4b3b-9ed2-499ed69886ca",
   "metadata": {},
   "outputs": [],
   "source": []
  },
  {
   "cell_type": "code",
   "execution_count": null,
   "id": "7b17c8c1-f185-4087-833b-58cc283a5198",
   "metadata": {},
   "outputs": [],
   "source": []
  },
  {
   "cell_type": "code",
   "execution_count": null,
   "id": "c208e6fa-a4ca-46f7-973d-5a83fbed9278",
   "metadata": {},
   "outputs": [],
   "source": []
  },
  {
   "cell_type": "code",
   "execution_count": null,
   "id": "3a8f1ecc-dceb-44c4-88ad-670c78653323",
   "metadata": {},
   "outputs": [],
   "source": []
  },
  {
   "cell_type": "code",
   "execution_count": null,
   "id": "ae78937a-7e71-4b4f-b695-c89632facad8",
   "metadata": {},
   "outputs": [],
   "source": []
  },
  {
   "cell_type": "code",
   "execution_count": null,
   "id": "16fa3adb-b83c-4f82-8c70-a7c8f7963a06",
   "metadata": {},
   "outputs": [],
   "source": []
  },
  {
   "cell_type": "code",
   "execution_count": null,
   "id": "ea1b1fe5-9c24-46a5-97d4-c96013ed1646",
   "metadata": {},
   "outputs": [],
   "source": []
  },
  {
   "cell_type": "code",
   "execution_count": null,
   "id": "2508353b-2114-487e-806c-0ee0899b04bf",
   "metadata": {},
   "outputs": [],
   "source": []
  },
  {
   "cell_type": "code",
   "execution_count": null,
   "id": "f4a3abda-4e85-4330-b574-451c20bf05c5",
   "metadata": {},
   "outputs": [],
   "source": []
  }
 ],
 "metadata": {
  "kernelspec": {
   "display_name": "Python 3 (ipykernel)",
   "language": "python",
   "name": "python3"
  },
  "language_info": {
   "codemirror_mode": {
    "name": "ipython",
    "version": 3
   },
   "file_extension": ".py",
   "mimetype": "text/x-python",
   "name": "python",
   "nbconvert_exporter": "python",
   "pygments_lexer": "ipython3",
   "version": "3.11.5"
  }
 },
 "nbformat": 4,
 "nbformat_minor": 5
}
